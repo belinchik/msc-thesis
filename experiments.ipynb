{
  "nbformat": 4,
  "nbformat_minor": 0,
  "metadata": {
    "colab": {
      "name": "course_work.ipynb",
      "version": "0.3.2",
      "provenance": [],
      "collapsed_sections": []
    },
    "language_info": {
      "codemirror_mode": {
        "name": "ipython",
        "version": 3
      },
      "file_extension": ".py",
      "mimetype": "text/x-python",
      "name": "python",
      "nbconvert_exporter": "python",
      "pygments_lexer": "ipython3",
      "version": "3.7.0"
    },
    "kernelspec": {
      "name": "python3",
      "display_name": "Python 3"
    },
    "accelerator": "GPU"
  },
  "cells": [
    {
      "cell_type": "code",
      "metadata": {
        "id": "oMCcA4u_v2_X",
        "colab_type": "code",
        "colab": {}
      },
      "source": [
        ""
      ],
      "execution_count": 0,
      "outputs": []
    },
    {
      "cell_type": "code",
      "metadata": {
        "id": "VrF4WOtXMBxP",
        "colab_type": "code",
        "colab": {}
      },
      "source": [
        "import numpy as np\n",
        "import pandas as pd\n",
        "import matplotlib.pyplot as plt\n",
        "import os\n",
        "from sklearn.model_selection import train_test_split\n",
        "from sklearn.metrics import confusion_matrix\n",
        "from sklearn.preprocessing import StandardScaler\n",
        "import torch\n",
        "from torch import nn\n",
        "from torch.utils.data import Dataset, DataLoader\n",
        "from IPython import display\n",
        "\n",
        "import seaborn as sns\n",
        "sns.set( palette=\"pastel\")"
      ],
      "execution_count": 0,
      "outputs": []
    },
    {
      "cell_type": "code",
      "metadata": {
        "id": "Jyr-eBSLv4gl",
        "colab_type": "code",
        "colab": {}
      },
      "source": [
        "arr = np.array([\n",
        "                [[1, 3, 2], \n",
        "                 [2, 5, 4], \n",
        "                 [3, 8, 9]],\n",
        "                \n",
        "                [\n",
        "                 [1, 3, 2],\n",
        "                 [3, 8, 9],\n",
        "                 [2, 5, 4]]\n",
        "                ]\n",
        "              )"
      ],
      "execution_count": 0,
      "outputs": []
    },
    {
      "cell_type": "code",
      "metadata": {
        "id": "dBOxKfGXwReW",
        "colab_type": "code",
        "outputId": "0ec36e62-1a74-4f32-e067-70f5f27d56de",
        "colab": {
          "base_uri": "https://localhost:8080/",
          "height": 34
        }
      },
      "source": [
        "arr.shape"
      ],
      "execution_count": 0,
      "outputs": [
        {
          "output_type": "execute_result",
          "data": {
            "text/plain": [
              "(2, 3, 3)"
            ]
          },
          "metadata": {
            "tags": []
          },
          "execution_count": 7
        }
      ]
    },
    {
      "cell_type": "code",
      "metadata": {
        "id": "WTIhRMg6wuNr",
        "colab_type": "code",
        "outputId": "18e628f3-0635-4aec-b6ac-9faa28247a9c",
        "colab": {
          "base_uri": "https://localhost:8080/",
          "height": 34
        }
      },
      "source": [
        "tens = torch.tensor(arr)\n",
        "tens.shape"
      ],
      "execution_count": 0,
      "outputs": [
        {
          "output_type": "execute_result",
          "data": {
            "text/plain": [
              "torch.Size([2, 3, 3])"
            ]
          },
          "metadata": {
            "tags": []
          },
          "execution_count": 9
        }
      ]
    },
    {
      "cell_type": "code",
      "metadata": {
        "id": "JpytvS60MFHV",
        "colab_type": "code",
        "colab": {}
      },
      "source": [
        "from google.colab import drive\n",
        "drive.mount('/content/gdrive')"
      ],
      "execution_count": 0,
      "outputs": []
    },
    {
      "cell_type": "markdown",
      "metadata": {
        "id": "hSg9xNhGMBxb",
        "colab_type": "text"
      },
      "source": [
        "#### 1. Загрузка и предобработка данных"
      ]
    },
    {
      "cell_type": "code",
      "metadata": {
        "id": "3q2hI2Y3MBxh",
        "colab_type": "code",
        "colab": {}
      },
      "source": [
        "PATH_DEVICE = '/content/gdrive/My Drive/Colab Notebooks/course work/data/device_1'\n",
        "PATH_BENIGN_TRAFFIC = 'benign_traffic.csv'\n",
        "\n",
        "PATH_GAFGYT_UDP = 'gafgyt_attacks/udp.csv'\n",
        "PATH_GAFGYT_TCP = 'gafgyt_attacks/tcp.csv'\n",
        "PATH_GAFGYT_SCAN = 'gafgyt_attacks/scan.csv'\n",
        "PATH_GAFGYT_JUNK = 'gafgyt_attacks/junk.csv'\n",
        "PATH_GAFGYT_COMBO = 'gafgyt_attacks/combo.csv'\n",
        "\n",
        "PATH_MIRAI_UDPPLAIN = 'mirai_attacks/udpplain.csv'\n",
        "PATH_MIRAI_UDP = 'mirai_attacks/udp.csv'\n",
        "PATH_MIRAI_SYN = 'mirai_attacks/syn.csv'\n",
        "PATH_MIRAI_SCAN = 'mirai_attacks/scan.csv'\n",
        "PATH_MIRAI_ACK = 'mirai_attacks/ack.csv'"
      ],
      "execution_count": 0,
      "outputs": []
    },
    {
      "cell_type": "code",
      "metadata": {
        "id": "Ih-8Ok3FMBxl",
        "colab_type": "code",
        "colab": {}
      },
      "source": [
        "df_benign = pd.read_csv(os.path.join(PATH_DEVICE, PATH_BENIGN_TRAFFIC))\n",
        "\n",
        "df_gafgyt_udp = pd.read_csv(os.path.join(PATH_DEVICE, PATH_GAFGYT_UDP))\n",
        "df_gafgyt_tcp = pd.read_csv(os.path.join(PATH_DEVICE, PATH_GAFGYT_TCP))\n",
        "df_gafgyt_scan = pd.read_csv(os.path.join(PATH_DEVICE, PATH_GAFGYT_SCAN))\n",
        "df_gafgyt_junk = pd.read_csv(os.path.join(PATH_DEVICE, PATH_GAFGYT_JUNK))\n",
        "df_gafgyt_combo = pd.read_csv(os.path.join(PATH_DEVICE, PATH_GAFGYT_COMBO))\n",
        "\n",
        "df_mirai_udpplain = pd.read_csv(os.path.join(PATH_DEVICE, PATH_MIRAI_UDPPLAIN))\n",
        "df_mirai_udp = pd.read_csv(os.path.join(PATH_DEVICE, PATH_MIRAI_UDP))\n",
        "df_mirai_syn = pd.read_csv(os.path.join(PATH_DEVICE, PATH_MIRAI_SYN))\n",
        "df_mirai_scan = pd.read_csv(os.path.join(PATH_DEVICE, PATH_MIRAI_SCAN))\n",
        "df_mirai_ack = pd.read_csv(os.path.join(PATH_DEVICE, PATH_MIRAI_ACK))"
      ],
      "execution_count": 0,
      "outputs": []
    },
    {
      "cell_type": "code",
      "metadata": {
        "id": "SQLcbVg_dsv1",
        "colab_type": "code",
        "outputId": "a5e0fbcd-56bd-4ad0-e864-5282167db0b6",
        "colab": {
          "base_uri": "https://localhost:8080/",
          "height": 204
        }
      },
      "source": [
        "datasets = {'benign': df_benign, 'gafgyt_udp': df_gafgyt_udp, 'gafgyt_tcp': df_gafgyt_tcp,\n",
        "           'gafgyt_scan': df_gafgyt_scan, 'gafgyt_junk': df_gafgyt_junk, \n",
        "           'gafgyt_combo': df_gafgyt_combo, 'mirai_udpplain': df_mirai_udpplain,\n",
        "           'mirai_udp': df_mirai_udp, 'mirai_syn': df_mirai_syn,\n",
        "           'mirai_scan': df_mirai_scan, 'mirai_ack': df_mirai_ack\n",
        "           }\n",
        "\n",
        "for name, df in datasets.items():\n",
        "    print(f'Dataset {name} length: {len(df)}')"
      ],
      "execution_count": 0,
      "outputs": [
        {
          "output_type": "stream",
          "text": [
            "Dataset benign length: 46585\n",
            "Dataset gafgyt_udp length: 103720\n",
            "Dataset gafgyt_tcp length: 88816\n",
            "Dataset gafgyt_scan length: 27825\n",
            "Dataset gafgyt_junk length: 28579\n",
            "Dataset gafgyt_combo length: 54283\n",
            "Dataset mirai_udpplain length: 78244\n",
            "Dataset mirai_udp length: 151879\n",
            "Dataset mirai_syn length: 125715\n",
            "Dataset mirai_scan length: 45930\n",
            "Dataset mirai_ack length: 111480\n"
          ],
          "name": "stdout"
        }
      ]
    },
    {
      "cell_type": "code",
      "metadata": {
        "id": "osF6yQ9qMBxv",
        "colab_type": "code",
        "colab": {}
      },
      "source": [
        "train_df, val_df = train_test_split(df_benign.values, shuffle=True, test_size=0.2)\n",
        "val_df, test_df = train_test_split(val_df, shuffle=True, test_size=0.5)\n",
        "\n",
        "assert len(val_df) + len(test_df) + len(train_df) == len(df_benign)"
      ],
      "execution_count": 0,
      "outputs": []
    },
    {
      "cell_type": "code",
      "metadata": {
        "id": "UX7S88mB9-0v",
        "colab_type": "code",
        "colab": {}
      },
      "source": [
        "# normalize the data\n",
        "normalizer = StandardScaler()\n",
        "train_df = normalizer.fit_transform(train_df)\n",
        "val_df = normalizer.transform(val_df)\n",
        "test_df = normalizer.transform(test_df)"
      ],
      "execution_count": 0,
      "outputs": []
    },
    {
      "cell_type": "markdown",
      "metadata": {
        "id": "s0Q6GEWiSFjf",
        "colab_type": "text"
      },
      "source": [
        "### 2. Эксперименты\n",
        "\n"
      ]
    },
    {
      "cell_type": "markdown",
      "metadata": {
        "id": "lFKS7h6tMBx0",
        "colab_type": "text"
      },
      "source": [
        "#### 2.1 Deep autoencoder"
      ]
    },
    {
      "cell_type": "markdown",
      "metadata": {
        "id": "U5TbDCZXMBx1",
        "colab_type": "text"
      },
      "source": [
        "Вспомогательные классы и функции"
      ]
    },
    {
      "cell_type": "code",
      "metadata": {
        "id": "mNr9kCAwd22d",
        "colab_type": "code",
        "colab": {}
      },
      "source": [
        "class TrafficDataset(Dataset):\n",
        "    \n",
        "    def __init__(self, df):\n",
        "        self.df = df\n",
        "        \n",
        "    def __getitem__(self, idx):\n",
        "        \n",
        "        #X = self.df.iloc[idx, :].values\n",
        "        X = self.df[idx]\n",
        "        X = torch.tensor(X, dtype=torch.float32)\n",
        "            \n",
        "        return X\n",
        "    \n",
        "    def __len__(self):\n",
        "        return len(self.df)"
      ],
      "execution_count": 0,
      "outputs": []
    },
    {
      "cell_type": "code",
      "metadata": {
        "id": "bNxvF51OMBx2",
        "colab_type": "code",
        "colab": {}
      },
      "source": [
        "class Logger(object):\n",
        "    '''\n",
        "    Instance of this class sums values of e.g. the loss function over\n",
        "    different iterations in one epoch, compute the average value of loss for\n",
        "    this epoch and save it to list.\n",
        "    '''\n",
        "\n",
        "    def __init__(self):\n",
        "\n",
        "        self.last = 0.0\n",
        "        self.average = 0.0\n",
        "        self.sum = 0.0\n",
        "        self.count = 0\n",
        "        self.history = []\n",
        "\n",
        "    def update(self, value):\n",
        "        '''\n",
        "        Update the state of the logger instance:\n",
        "        - add value to the self.sum attribute\n",
        "        - increment count of seen values\n",
        "        - reestimate average value\n",
        "\n",
        "        This method must be called after each iteration over a mini-batch.\n",
        "        '''\n",
        "\n",
        "        self.count += 1\n",
        "        self.last = value\n",
        "        self.sum += value\n",
        "        self.average = self.sum / self.count\n",
        "\n",
        "    def reset(self):\n",
        "        '''\n",
        "        Zero-out all attributes except self.history.\n",
        "\n",
        "        This method must be called at the begining of each epoch. \n",
        "        '''\n",
        "\n",
        "        self.last = 0.0\n",
        "        self.average = 0.0\n",
        "        self.sum = 0.0\n",
        "        self.count = 0\n",
        "\n",
        "    def save(self):\n",
        "        '''\n",
        "        Save the obtained average value to the list. \n",
        "\n",
        "        This method must be called at the end of each epoch. \n",
        "        '''\n",
        "\n",
        "        self.history.append(self.average)"
      ],
      "execution_count": 0,
      "outputs": []
    },
    {
      "cell_type": "code",
      "metadata": {
        "id": "Oh3RcOjgMBx4",
        "colab_type": "code",
        "colab": {}
      },
      "source": [
        "def save_checkpoint(state_dict, path='', improved=False):\n",
        "    '''\n",
        "    Saves checkpoint with state dictionary at the current epoch, and state\n",
        "    dictionary of the best model. \n",
        "\n",
        "    ================================================================\n",
        "    state_dict -- dict, dictionary containing states of model/optimizer etc.\n",
        "\n",
        "    path -- str, path to directory where to save the checkpoint and/or the\n",
        "            best model\n",
        "    improved -- bool, flag used to save the current state to the separate \n",
        "                file when there was an improvement in validation accuracy\n",
        "    ================================================================\n",
        "    '''\n",
        "\n",
        "    torch.save(state_dict, os.path.join(path, 'checkpoint.tar'))\n",
        "    if improved:\n",
        "        torch.save(state_dict, os.path.join(path, 'best_model.tar'))"
      ],
      "execution_count": 0,
      "outputs": []
    },
    {
      "cell_type": "code",
      "metadata": {
        "id": "Lym8HQhIMBx6",
        "colab_type": "code",
        "colab": {}
      },
      "source": [
        "def train_epoch(train_loader, model, device, optimizer, criterion, epoch, loss_logger,\n",
        "          tensorboard=False, tbc_inst=None, verbose=None):\n",
        "    '''\n",
        "    Executes one epoch of model training. Computes forward pass and backward pass\n",
        "    *num_batches* times.\n",
        "\n",
        "    ================================================================\n",
        "    train_loader -- torch.utils.data.DataLoader instance, generator  which provides\n",
        "                    samples from the train dataset\n",
        "\n",
        "    model -- torch.nn.Module instance, a model to train\n",
        "\n",
        "    device -- torch.device, a device to train on\n",
        "\n",
        "    optimizer -- instance of some class from torch.optim used to update parameters\n",
        "                 of the model\n",
        "\n",
        "    criterion -- instance of a loss function class from torch.nn.\n",
        "\n",
        "    epoch -- int, number of the current epoch\n",
        "\n",
        "    loss_logger -- Logger instance which is used to compute average value of the \n",
        "                   loss in one epoch and cache it\n",
        "\n",
        "    tensorboard -- bool, whether to visualize learning curves in TensorBoard\n",
        "\n",
        "    tbc_inst -- TensorBoardColab instance, used to transfer data from GoogleColab\n",
        "                to TensorBoard local server\n",
        "\n",
        "    verbose -- int, defines the number of epochs after which the learning stats\n",
        "               will be printed\n",
        "    ================================================================\n",
        "    '''\n",
        "  \n",
        "    loss_logger.reset()\n",
        "\n",
        "    model.train()\n",
        "\n",
        "    for X in train_loader:\n",
        "        X = X.to(device)\n",
        "\n",
        "        optimizer.zero_grad()\n",
        "        Y_pred = model.forward(X)\n",
        "        loss = criterion(Y_pred, X)\n",
        "        loss.backward()\n",
        "        loss_logger.update(loss)\n",
        "\n",
        "        optimizer.step()\n",
        "            \n",
        "    loss_logger.save()\n",
        "    # plot training progress in tensorboard\n",
        "    if tensorboard:\n",
        "        tbc_inst.save_value('Learning curves', 'Training loss', epoch, \n",
        "                            loss_logger.average)\n",
        "        tbc_inst.close()\n",
        "\n",
        "    # print training progress\n",
        "    if verbose:\n",
        "        # print every 10th epoch\n",
        "        if epoch % verbose == 0:\n",
        "            print(f'Epoch: {epoch} | Train loss: {round(loss_logger.average.item(), 4)} | ',  end=' ')"
      ],
      "execution_count": 0,
      "outputs": []
    },
    {
      "cell_type": "code",
      "metadata": {
        "id": "bgSB-vjjMBx8",
        "colab_type": "code",
        "colab": {}
      },
      "source": [
        "def validate_epoch(val_loader, model, device, epoch, logger, tensorboard=False, \n",
        "             tbc_inst=None, verbose=None):\n",
        "    '''\n",
        "    Executes model validation. Computes forward pass *num_val_batches* times.\n",
        "\n",
        "    ================================================================\n",
        "    val_loader -- torch.utils.data.DataLoader instance, generator  which provides\n",
        "                    samples from the validation dataset\n",
        "\n",
        "    model -- torch.nn.Module instance, a model to evaluate\n",
        "\n",
        "    device -- torch.device, a device to evaluate on\n",
        "\n",
        "    epoch -- int, number of the current epoch\n",
        "\n",
        "    logger -- Logger instance which is used to compute average value of the \n",
        "            loss in one epoch and cache it\n",
        "\n",
        "    tensorboard -- bool, whether to visualize learning curves in TensorBoard\n",
        "\n",
        "    tbc_inst -- TensorBoardColab instance, used to transfer data from GoogleColab\n",
        "              to TensorBoard local server\n",
        "\n",
        "    verbose -- int, defines the number of epochs after which the learning stats\n",
        "             will be printed\n",
        "    ================================================================\n",
        "    '''\n",
        "    logger.reset()\n",
        "  \n",
        "    model.eval()\n",
        "  \n",
        "    for X in val_loader:\n",
        "        X = X.to(device)\n",
        "\n",
        "        Y_pred = model.forward(X)\n",
        "        loss = criterion(Y_pred, X).detach().cpu().numpy()\n",
        "        logger.update(loss)\n",
        "    \n",
        "    logger.save()\n",
        "   \n",
        "    # plot training progress in tensorboard\n",
        "    if tensorboard:\n",
        "        tbc_inst.save_value('Learning curves', 'Validation loss', epoch, \n",
        "                            logger.average)\n",
        "        tbc_inst.close()\n",
        "    \n",
        "    # print training progress\n",
        "    if verbose:\n",
        "        # print every 10th epoch\n",
        "        if epoch % verbose == 0:\n",
        "            print(f'Validation loss: {round(logger.average.item(), 4)} | Gradient: {torch.nn.utils.clip_grad_norm_(model.parameters(), 5.0)}')\n",
        "      \n",
        "    return logger.average"
      ],
      "execution_count": 0,
      "outputs": []
    },
    {
      "cell_type": "code",
      "metadata": {
        "id": "nhmz35n8MBx9",
        "colab_type": "code",
        "colab": {}
      },
      "source": [
        "def calculate_threshold(model, X):\n",
        "    Y_pred = model.forward(X)\n",
        "    losses = torch.mean(torch.pow(X - Y_pred, 2), dim=1)\n",
        "    \n",
        "    assert losses.shape[0] == X.shape[0]\n",
        "    \n",
        "    model.threshold = torch.mean(losses) + torch.std(losses)"
      ],
      "execution_count": 0,
      "outputs": []
    },
    {
      "cell_type": "code",
      "metadata": {
        "id": "ddB5FWh2BAPQ",
        "colab_type": "code",
        "colab": {}
      },
      "source": [
        "def predict(model, data, device):\n",
        "    data = torch.tensor(data, dtype=torch.float32, device=device)\n",
        "    out = model(data)\n",
        "    losses = torch.mean(torch.pow(data - out, 2), dim=1)\n",
        "    y_pred = (losses >= model.threshold).detach().cpu().numpy()\n",
        "    \n",
        "    return y_pred"
      ],
      "execution_count": 0,
      "outputs": []
    },
    {
      "cell_type": "code",
      "metadata": {
        "id": "9I-N1DSEMBx-",
        "colab_type": "code",
        "colab": {}
      },
      "source": [
        "def train(train_dataloader, val_dataloader, val_dataset, model, max_epoch, \n",
        "          optimizer, criterion, scheduler=None):\n",
        "  \n",
        "    try: \n",
        "        if torch.cuda.is_available():\n",
        "            device = torch.device('cuda')\n",
        "        else:\n",
        "            device = torch.device('cpu')\n",
        "\n",
        "        best_val_loss = torch.tensor(np.inf)\n",
        "        model.to(device)\n",
        "        print(f'Model is on {device}')\n",
        "\n",
        "        train_loss_logger = Logger()\n",
        "        val_loss_logger = Logger()\n",
        "\n",
        "        # start training process\n",
        "        for epoch in range(1, max_epoch+1):\n",
        "            display.clear_output(wait=True)\n",
        "            # train a model for one epoch\n",
        "            train_epoch(train_dataloader, model, device, optimizer, criterion, epoch, \n",
        "                train_loss_logger, verbose=1)\n",
        "\n",
        "            # evaluate model on val set\n",
        "            current_loss = validate_epoch(val_dataloader, model, device, epoch, logger=val_loss_logger,\n",
        "                                  verbose=1)\n",
        "\n",
        "            if scheduler:\n",
        "                scheduler.step(current_loss)\n",
        "            \n",
        "            # update model's threshold on val dataset\n",
        "            calculate_threshold(model, torch.tensor(val_dataset, dtype=torch.float32, device=device))\n",
        "            \n",
        "            # plot learning and accuracy curves vs epoch#\n",
        "            fig, axes = plt.subplots(1, 1, figsize=(6, 3), dpi=100)\n",
        "\n",
        "            axes.set_title('Learning curves')\n",
        "            axes.set_ylabel('Loss')\n",
        "            axes.set_xlabel('Epoch')\n",
        "            axes.plot(train_loss_logger.history, \n",
        "                       label=f'Train loss: {round(train_loss_logger.history[epoch-1].item(), 4)}')\n",
        "            axes.plot(val_loss_logger.history, c='r',\n",
        "                       label=f'Validation loss: {round(val_loss_logger.history[epoch-1].item(), 4)}')\n",
        "            axes.legend()\n",
        "            plt.tight_layout()\n",
        "            plt.show()\n",
        "\n",
        "            # save a checkpoint and the best model\n",
        "            state_dict = {'epoch': epoch,\n",
        "                       'model_state_dict': model.state_dict(),\n",
        "                       'optimizer_state_dict': optimizer.state_dict(),\n",
        "                       'train_loss_history': train_loss_logger.history,\n",
        "                       'val_loss_history': val_loss_logger.history,\n",
        "                       'device': device,\n",
        "                       'threshold': model.threshold\n",
        "                       }\n",
        "\n",
        "            if current_loss < best_val_loss:\n",
        "                best_val_loss = current_loss\n",
        "                improved = True\n",
        "            else:\n",
        "                improved = False\n",
        "            save_checkpoint(state_dict, improved=improved)\n",
        "            \n",
        "    except KeyboardInterrupt:\n",
        "        pass"
      ],
      "execution_count": 0,
      "outputs": []
    },
    {
      "cell_type": "code",
      "metadata": {
        "id": "uovzqJ8KinCo",
        "colab_type": "code",
        "colab": {}
      },
      "source": [
        "def load_model(model_path):\n",
        "    # define device\n",
        "    if torch.cuda.is_available():\n",
        "        device = torch.device('cuda')\n",
        "    else:\n",
        "        device = torch.device('cpu')\n",
        "\n",
        "    # load the checkpoint\n",
        "    checkpoint = torch.load(model_path, map_location=device)\n",
        "\n",
        "    # load the best model and the learning history\n",
        "    deep_aec = DeepAutoencoder(115).to(device)\n",
        "    deep_aec.load_state_dict(checkpoint['model_state_dict'])\n",
        "    deep_aec.threshold = checkpoint['threshold']\n",
        "    \n",
        "    # load the learning history\n",
        "    train_loss_history = checkpoint['train_loss_history']\n",
        "    val_loss_history = checkpoint['val_loss_history']\n",
        "    epoch = checkpoint['epoch']\n",
        "    \n",
        "    return deep_aec"
      ],
      "execution_count": 0,
      "outputs": []
    },
    {
      "cell_type": "code",
      "metadata": {
        "id": "JDA1yX8074zs",
        "colab_type": "code",
        "colab": {}
      },
      "source": [
        "train_dataset = TrafficDataset(train_df)\n",
        "val_dataset = TrafficDataset(val_df)"
      ],
      "execution_count": 0,
      "outputs": []
    },
    {
      "cell_type": "code",
      "metadata": {
        "id": "wviFjYvGO3Bu",
        "colab_type": "code",
        "colab": {}
      },
      "source": [
        "class DeepAutoencoder(nn.Module):\n",
        "    \n",
        "    def __init__(self, input_dim):\n",
        "        \n",
        "        super(DeepAutoencoder, self).__init__()\n",
        "        self.enc = nn.Sequential(\n",
        "                      nn.Linear(input_dim, int(input_dim * 0.75)),\n",
        "                      nn.Tanh(),\n",
        "                      nn.Linear(int(input_dim * 0.75), int(input_dim * 0.5)),\n",
        "                      nn.Tanh(),\n",
        "                      nn.Linear(int(input_dim * 0.5), int(input_dim * 0.33)),\n",
        "                      nn.Tanh(),\n",
        "                      nn.Linear(int(input_dim * 0.33), int(input_dim * 0.25)),\n",
        "                      nn.Tanh()\n",
        "                    )\n",
        "        \n",
        "        self.dec = nn.Sequential(\n",
        "                      nn.Linear(int(input_dim * 0.25), int(input_dim * 0.33)),\n",
        "                      nn.Tanh(),\n",
        "                      nn.Linear(int(input_dim * 0.33), int(input_dim * 0.5)),\n",
        "                      nn.Tanh(),\n",
        "                      nn.Linear(int(input_dim * 0.5), int(input_dim * 0.75)),\n",
        "                      nn.Tanh(),\n",
        "                      nn.Linear(int(input_dim * 0.75), input_dim)\n",
        "                    )\n",
        "        self.threshold = None\n",
        "        self.beta = 1.0\n",
        "        \n",
        "    def forward(self, x):\n",
        "        \n",
        "        out = self.enc(x)\n",
        "        out = self.dec(out)\n",
        "        return out\n",
        "      \n",
        "    def predict(self, x, device='cpu'):\n",
        "        \n",
        "        x = torch.tensor(x, dtype=torch.float32, device=device)\n",
        "        out = self.forward(x)\n",
        "        losses = torch.mean(torch.pow(x - out, 2), dim=1)\n",
        "        y_pred = (losses >= self.beta*self.threshold).detach().cpu().numpy()\n",
        "        \n",
        "        return y_pred"
      ],
      "execution_count": 0,
      "outputs": []
    },
    {
      "cell_type": "code",
      "metadata": {
        "id": "qOeberr0QJkJ",
        "colab_type": "code",
        "colab": {}
      },
      "source": [
        "deep_aec = DeepAutoencoder(115)\n",
        "criterion = torch.nn.MSELoss()"
      ],
      "execution_count": 0,
      "outputs": []
    },
    {
      "cell_type": "code",
      "metadata": {
        "id": "dihUI_BhQRoh",
        "colab_type": "code",
        "colab": {}
      },
      "source": [
        "optimizer = torch.optim.SGD(deep_aec.parameters(), lr=1e-1)\n",
        "scheduler = torch.optim.lr_scheduler.StepLR(optimizer, step_size=30)"
      ],
      "execution_count": 0,
      "outputs": []
    },
    {
      "cell_type": "code",
      "metadata": {
        "id": "qyion9pdWPih",
        "colab_type": "code",
        "colab": {}
      },
      "source": [
        "train_loader = DataLoader(train_dataset, shuffle=True, batch_size=64)\n",
        "val_loader = DataLoader(val_dataset, shuffle=False, batch_size=64)"
      ],
      "execution_count": 0,
      "outputs": []
    },
    {
      "cell_type": "code",
      "metadata": {
        "id": "IKlVj5lDQT9_",
        "colab_type": "code",
        "outputId": "b57aee05-2427-4b26-d482-5796dbeb68b8",
        "colab": {
          "base_uri": "https://localhost:8080/",
          "height": 318
        }
      },
      "source": [
        "train(train_loader, val_loader, val_df, deep_aec, 200, optimizer, criterion, scheduler=scheduler)"
      ],
      "execution_count": 0,
      "outputs": [
        {
          "output_type": "stream",
          "text": [
            "Epoch: 200 | Train loss: 0.0402 |  Validation loss: 0.0267 | Gradient: 0.23072865680789914\n"
          ],
          "name": "stdout"
        },
        {
          "output_type": "display_data",
          "data": {
            "image/png": "[encoded data removed]",
            "text/plain": [
              "<Figure size 600x300 with 1 Axes>"
            ]
          },
          "metadata": {
            "tags": []
          }
        }
      ]
    },
    {
      "cell_type": "code",
      "metadata": {
        "id": "2xIDWiCalxl-",
        "colab_type": "code",
        "colab": {}
      },
      "source": [
        "deep_aec = load_model('./best_model.tar')"
      ],
      "execution_count": 0,
      "outputs": []
    },
    {
      "cell_type": "code",
      "metadata": {
        "id": "tbWZj65Cg5H2",
        "colab_type": "code",
        "outputId": "dbf66c5c-d04c-4bfd-e758-e8fd404fa26e",
        "colab": {
          "base_uri": "https://localhost:8080/",
          "height": 34
        }
      },
      "source": [
        "deep_aec.threshold"
      ],
      "execution_count": 0,
      "outputs": [
        {
          "output_type": "execute_result",
          "data": {
            "text/plain": [
              "tensor(0.1584, device='cuda:0', grad_fn=<AddBackward0>)"
            ]
          },
          "metadata": {
            "tags": []
          },
          "execution_count": 24
        }
      ]
    },
    {
      "cell_type": "markdown",
      "metadata": {
        "id": "K3_CuSnsYIiI",
        "colab_type": "text"
      },
      "source": [
        "Тестируем обученную модель"
      ]
    },
    {
      "cell_type": "code",
      "metadata": {
        "id": "sZtrzFzSsaFj",
        "colab_type": "code",
        "colab": {}
      },
      "source": [
        "from sklearn.metrics import f1_score, precision_score, recall_score\n",
        "import time"
      ],
      "execution_count": 0,
      "outputs": []
    },
    {
      "cell_type": "code",
      "metadata": {
        "id": "BkgNrzEeoIGm",
        "colab_type": "code",
        "colab": {}
      },
      "source": [
        "def fpr(y_true, y_pred):\n",
        "    conf_matr = confusion_matrix(y_true, y_pred)\n",
        "    return conf_matr[0, 1] / (conf_matr[0, 1] + conf_matr[0, 0])\n",
        "\n",
        "def evaluate_model(benign_data, model, normalizer):\n",
        "    \n",
        "    attack_names = ['gafgyt_udp', 'gafgyt_tcp', 'gafgyt_scan', 'gafgyt_junk', \n",
        "           'gafgyt_combo', 'mirai_udpplain', 'mirai_udp', 'mirai_syn',\n",
        "           'mirai_scan', 'mirai_ack']\n",
        "    metrics = {'tpr': recall_score, 'fpr': fpr, 'precision': precision_score,\n",
        "               'f1_score': f1_score\n",
        "              }\n",
        "    results = {}\n",
        "    \n",
        "    for attack_name in attack_names:\n",
        "        df_attack = datasets[attack_name]\n",
        "        df_attack = normalizer.transform(df_attack)\n",
        "        x = np.concatenate((benign_data, df_attack))\n",
        "        y_true = np.concatenate((np.zeros(len(benign_data)), np.ones(len(df_attack))))\n",
        "        \n",
        "        assert len(y_true) == len(benign_data) + len(df_attack)\n",
        "        \n",
        "        tic = time.time()\n",
        "        y_pred = model.predict(x)\n",
        "        toc = time.time()\n",
        "        \n",
        "        if -1 in np.unique(y_pred):\n",
        "            y_pred[y_pred==1] = 0\n",
        "            y_pred[y_pred==-1] = 1\n",
        "            \n",
        "        for metric, func in metrics.items():\n",
        "            if metric not in results:\n",
        "                results[metric] = []\n",
        "            results[metric].append(func(y_true, y_pred))\n",
        "        \n",
        "        if 'time' not in results:\n",
        "            results['time'] = []\n",
        "        results['time'].append(toc - tic)\n",
        "        \n",
        "    return pd.DataFrame(results, index=attack_names)"
      ],
      "execution_count": 0,
      "outputs": []
    },
    {
      "cell_type": "code",
      "metadata": {
        "id": "qUahl5jrvfGN",
        "colab_type": "code",
        "colab": {}
      },
      "source": [
        "deep_aec = deep_aec.to('cpu')\n",
        "deep_aec.threshold = deep_aec.threshold.detach().cpu()\n",
        "deep_aec.beta = 1.0\n",
        "dae_df = evaluate_model(test_df, deep_aec, normalizer)"
      ],
      "execution_count": 0,
      "outputs": []
    },
    {
      "cell_type": "code",
      "metadata": {
        "id": "rvP_nRFwxkvu",
        "colab_type": "code",
        "outputId": "729d7eff-621f-40a8-c90d-e0c2f48da7fd",
        "colab": {
          "base_uri": "https://localhost:8080/",
          "height": 359
        }
      },
      "source": [
        "dae_df.head(10)"
      ],
      "execution_count": 0,
      "outputs": [
        {
          "output_type": "execute_result",
          "data": {
            "text/html": [
              "<div>\n",
              "<style scoped>\n",
              "    .dataframe tbody tr th:only-of-type {\n",
              "        vertical-align: middle;\n",
              "    }\n",
              "\n",
              "    .dataframe tbody tr th {\n",
              "        vertical-align: top;\n",
              "    }\n",
              "\n",
              "    .dataframe thead th {\n",
              "        text-align: right;\n",
              "    }\n",
              "</style>\n",
              "<table border=\"1\" class=\"dataframe\">\n",
              "  <thead>\n",
              "    <tr style=\"text-align: right;\">\n",
              "      <th></th>\n",
              "      <th>tpr</th>\n",
              "      <th>fpr</th>\n",
              "      <th>precision</th>\n",
              "      <th>f1_score</th>\n",
              "      <th>time</th>\n",
              "    </tr>\n",
              "  </thead>\n",
              "  <tbody>\n",
              "    <tr>\n",
              "      <th>gafgyt_udp</th>\n",
              "      <td>0.999653</td>\n",
              "      <td>0.03241</td>\n",
              "      <td>0.998546</td>\n",
              "      <td>0.999099</td>\n",
              "      <td>0.388070</td>\n",
              "    </tr>\n",
              "    <tr>\n",
              "      <th>gafgyt_tcp</th>\n",
              "      <td>0.999921</td>\n",
              "      <td>0.03241</td>\n",
              "      <td>0.998303</td>\n",
              "      <td>0.999111</td>\n",
              "      <td>0.334388</td>\n",
              "    </tr>\n",
              "    <tr>\n",
              "      <th>gafgyt_scan</th>\n",
              "      <td>0.999389</td>\n",
              "      <td>0.03241</td>\n",
              "      <td>0.994599</td>\n",
              "      <td>0.996988</td>\n",
              "      <td>0.118159</td>\n",
              "    </tr>\n",
              "    <tr>\n",
              "      <th>gafgyt_junk</th>\n",
              "      <td>0.999895</td>\n",
              "      <td>0.03241</td>\n",
              "      <td>0.994744</td>\n",
              "      <td>0.997313</td>\n",
              "      <td>0.115746</td>\n",
              "    </tr>\n",
              "    <tr>\n",
              "      <th>gafgyt_combo</th>\n",
              "      <td>0.999945</td>\n",
              "      <td>0.03241</td>\n",
              "      <td>0.997226</td>\n",
              "      <td>0.998583</td>\n",
              "      <td>0.211530</td>\n",
              "    </tr>\n",
              "    <tr>\n",
              "      <th>mirai_udpplain</th>\n",
              "      <td>1.000000</td>\n",
              "      <td>0.03241</td>\n",
              "      <td>0.998074</td>\n",
              "      <td>0.999036</td>\n",
              "      <td>0.295155</td>\n",
              "    </tr>\n",
              "    <tr>\n",
              "      <th>mirai_udp</th>\n",
              "      <td>1.000000</td>\n",
              "      <td>0.03241</td>\n",
              "      <td>0.999007</td>\n",
              "      <td>0.999503</td>\n",
              "      <td>0.570463</td>\n",
              "    </tr>\n",
              "    <tr>\n",
              "      <th>mirai_syn</th>\n",
              "      <td>0.999992</td>\n",
              "      <td>0.03241</td>\n",
              "      <td>0.998800</td>\n",
              "      <td>0.999396</td>\n",
              "      <td>0.479170</td>\n",
              "    </tr>\n",
              "    <tr>\n",
              "      <th>mirai_scan</th>\n",
              "      <td>0.999695</td>\n",
              "      <td>0.03241</td>\n",
              "      <td>0.996722</td>\n",
              "      <td>0.998206</td>\n",
              "      <td>0.183241</td>\n",
              "    </tr>\n",
              "    <tr>\n",
              "      <th>mirai_ack</th>\n",
              "      <td>1.000000</td>\n",
              "      <td>0.03241</td>\n",
              "      <td>0.998647</td>\n",
              "      <td>0.999323</td>\n",
              "      <td>0.408694</td>\n",
              "    </tr>\n",
              "  </tbody>\n",
              "</table>\n",
              "</div>"
            ],
            "text/plain": [
              "                     tpr      fpr  precision  f1_score      time\n",
              "gafgyt_udp      0.999653  0.03241   0.998546  0.999099  0.388070\n",
              "gafgyt_tcp      0.999921  0.03241   0.998303  0.999111  0.334388\n",
              "gafgyt_scan     0.999389  0.03241   0.994599  0.996988  0.118159\n",
              "gafgyt_junk     0.999895  0.03241   0.994744  0.997313  0.115746\n",
              "gafgyt_combo    0.999945  0.03241   0.997226  0.998583  0.211530\n",
              "mirai_udpplain  1.000000  0.03241   0.998074  0.999036  0.295155\n",
              "mirai_udp       1.000000  0.03241   0.999007  0.999503  0.570463\n",
              "mirai_syn       0.999992  0.03241   0.998800  0.999396  0.479170\n",
              "mirai_scan      0.999695  0.03241   0.996722  0.998206  0.183241\n",
              "mirai_ack       1.000000  0.03241   0.998647  0.999323  0.408694"
            ]
          },
          "metadata": {
            "tags": []
          },
          "execution_count": 30
        }
      ]
    },
    {
      "cell_type": "code",
      "metadata": {
        "id": "jLOuQWqWb-Qj",
        "colab_type": "code",
        "outputId": "48373fd4-64d9-40e1-ffec-b1130500075a",
        "colab": {
          "base_uri": "https://localhost:8080/",
          "height": 359
        }
      },
      "source": [
        "dae_df['model'] = pd.Series(['Autoencoder']*10, dtype=str, index=dae_df.index)\n",
        "dae_df.head(10)"
      ],
      "execution_count": 0,
      "outputs": [
        {
          "output_type": "execute_result",
          "data": {
            "text/html": [
              "<div>\n",
              "<style scoped>\n",
              "    .dataframe tbody tr th:only-of-type {\n",
              "        vertical-align: middle;\n",
              "    }\n",
              "\n",
              "    .dataframe tbody tr th {\n",
              "        vertical-align: top;\n",
              "    }\n",
              "\n",
              "    .dataframe thead th {\n",
              "        text-align: right;\n",
              "    }\n",
              "</style>\n",
              "<table border=\"1\" class=\"dataframe\">\n",
              "  <thead>\n",
              "    <tr style=\"text-align: right;\">\n",
              "      <th></th>\n",
              "      <th>tpr</th>\n",
              "      <th>fpr</th>\n",
              "      <th>precision</th>\n",
              "      <th>f1_score</th>\n",
              "      <th>time</th>\n",
              "      <th>model</th>\n",
              "    </tr>\n",
              "  </thead>\n",
              "  <tbody>\n",
              "    <tr>\n",
              "      <th>gafgyt_udp</th>\n",
              "      <td>0.999653</td>\n",
              "      <td>0.03241</td>\n",
              "      <td>0.998546</td>\n",
              "      <td>0.999099</td>\n",
              "      <td>0.388070</td>\n",
              "      <td>Autoencoder</td>\n",
              "    </tr>\n",
              "    <tr>\n",
              "      <th>gafgyt_tcp</th>\n",
              "      <td>0.999921</td>\n",
              "      <td>0.03241</td>\n",
              "      <td>0.998303</td>\n",
              "      <td>0.999111</td>\n",
              "      <td>0.334388</td>\n",
              "      <td>Autoencoder</td>\n",
              "    </tr>\n",
              "    <tr>\n",
              "      <th>gafgyt_scan</th>\n",
              "      <td>0.999389</td>\n",
              "      <td>0.03241</td>\n",
              "      <td>0.994599</td>\n",
              "      <td>0.996988</td>\n",
              "      <td>0.118159</td>\n",
              "      <td>Autoencoder</td>\n",
              "    </tr>\n",
              "    <tr>\n",
              "      <th>gafgyt_junk</th>\n",
              "      <td>0.999895</td>\n",
              "      <td>0.03241</td>\n",
              "      <td>0.994744</td>\n",
              "      <td>0.997313</td>\n",
              "      <td>0.115746</td>\n",
              "      <td>Autoencoder</td>\n",
              "    </tr>\n",
              "    <tr>\n",
              "      <th>gafgyt_combo</th>\n",
              "      <td>0.999945</td>\n",
              "      <td>0.03241</td>\n",
              "      <td>0.997226</td>\n",
              "      <td>0.998583</td>\n",
              "      <td>0.211530</td>\n",
              "      <td>Autoencoder</td>\n",
              "    </tr>\n",
              "    <tr>\n",
              "      <th>mirai_udpplain</th>\n",
              "      <td>1.000000</td>\n",
              "      <td>0.03241</td>\n",
              "      <td>0.998074</td>\n",
              "      <td>0.999036</td>\n",
              "      <td>0.295155</td>\n",
              "      <td>Autoencoder</td>\n",
              "    </tr>\n",
              "    <tr>\n",
              "      <th>mirai_udp</th>\n",
              "      <td>1.000000</td>\n",
              "      <td>0.03241</td>\n",
              "      <td>0.999007</td>\n",
              "      <td>0.999503</td>\n",
              "      <td>0.570463</td>\n",
              "      <td>Autoencoder</td>\n",
              "    </tr>\n",
              "    <tr>\n",
              "      <th>mirai_syn</th>\n",
              "      <td>0.999992</td>\n",
              "      <td>0.03241</td>\n",
              "      <td>0.998800</td>\n",
              "      <td>0.999396</td>\n",
              "      <td>0.479170</td>\n",
              "      <td>Autoencoder</td>\n",
              "    </tr>\n",
              "    <tr>\n",
              "      <th>mirai_scan</th>\n",
              "      <td>0.999695</td>\n",
              "      <td>0.03241</td>\n",
              "      <td>0.996722</td>\n",
              "      <td>0.998206</td>\n",
              "      <td>0.183241</td>\n",
              "      <td>Autoencoder</td>\n",
              "    </tr>\n",
              "    <tr>\n",
              "      <th>mirai_ack</th>\n",
              "      <td>1.000000</td>\n",
              "      <td>0.03241</td>\n",
              "      <td>0.998647</td>\n",
              "      <td>0.999323</td>\n",
              "      <td>0.408694</td>\n",
              "      <td>Autoencoder</td>\n",
              "    </tr>\n",
              "  </tbody>\n",
              "</table>\n",
              "</div>"
            ],
            "text/plain": [
              "                     tpr      fpr  precision  f1_score      time        model\n",
              "gafgyt_udp      0.999653  0.03241   0.998546  0.999099  0.388070  Autoencoder\n",
              "gafgyt_tcp      0.999921  0.03241   0.998303  0.999111  0.334388  Autoencoder\n",
              "gafgyt_scan     0.999389  0.03241   0.994599  0.996988  0.118159  Autoencoder\n",
              "gafgyt_junk     0.999895  0.03241   0.994744  0.997313  0.115746  Autoencoder\n",
              "gafgyt_combo    0.999945  0.03241   0.997226  0.998583  0.211530  Autoencoder\n",
              "mirai_udpplain  1.000000  0.03241   0.998074  0.999036  0.295155  Autoencoder\n",
              "mirai_udp       1.000000  0.03241   0.999007  0.999503  0.570463  Autoencoder\n",
              "mirai_syn       0.999992  0.03241   0.998800  0.999396  0.479170  Autoencoder\n",
              "mirai_scan      0.999695  0.03241   0.996722  0.998206  0.183241  Autoencoder\n",
              "mirai_ack       1.000000  0.03241   0.998647  0.999323  0.408694  Autoencoder"
            ]
          },
          "metadata": {
            "tags": []
          },
          "execution_count": 53
        }
      ]
    },
    {
      "cell_type": "markdown",
      "metadata": {
        "id": "ownsiKclNwKr",
        "colab_type": "text"
      },
      "source": [
        "#### 2.2 One-class SVM"
      ]
    },
    {
      "cell_type": "code",
      "metadata": {
        "id": "Ztfb_l1jId4C",
        "colab_type": "code",
        "colab": {}
      },
      "source": [
        "from sklearn.svm import OneClassSVM"
      ],
      "execution_count": 0,
      "outputs": []
    },
    {
      "cell_type": "code",
      "metadata": {
        "id": "5wvQ0OX9PvK6",
        "colab_type": "code",
        "colab": {}
      },
      "source": [
        "one_svm = OneClassSVM(nu=0.1, kernel=\"rbf\", gamma=0.1)"
      ],
      "execution_count": 0,
      "outputs": []
    },
    {
      "cell_type": "code",
      "metadata": {
        "id": "9eseqQ7MRdbt",
        "colab_type": "code",
        "outputId": "fb85c97e-6f44-42c2-cd11-b970abb2ce41",
        "colab": {
          "base_uri": "https://localhost:8080/",
          "height": 68
        }
      },
      "source": [
        "one_svm.fit(train_df)"
      ],
      "execution_count": 0,
      "outputs": [
        {
          "output_type": "execute_result",
          "data": {
            "text/plain": [
              "OneClassSVM(cache_size=200, coef0=0.0, degree=3, gamma=0.1, kernel='rbf',\n",
              "            max_iter=-1, nu=0.1, random_state=None, shrinking=True, tol=0.001,\n",
              "            verbose=False)"
            ]
          },
          "metadata": {
            "tags": []
          },
          "execution_count": 34
        }
      ]
    },
    {
      "cell_type": "code",
      "metadata": {
        "id": "nm0gMtpq1T6O",
        "colab_type": "code",
        "colab": {}
      },
      "source": [
        "osvm_df = evaluate_model(test_df, one_svm, normalizer)"
      ],
      "execution_count": 0,
      "outputs": []
    },
    {
      "cell_type": "code",
      "metadata": {
        "id": "gUS6EXiSR5QQ",
        "colab_type": "code",
        "outputId": "4bb1bea2-4ae7-4b7b-9ba3-5f0fbc260b39",
        "colab": {
          "base_uri": "https://localhost:8080/",
          "height": 359
        }
      },
      "source": [
        "osvm_df.head(10)"
      ],
      "execution_count": 0,
      "outputs": [
        {
          "output_type": "execute_result",
          "data": {
            "text/html": [
              "<div>\n",
              "<style scoped>\n",
              "    .dataframe tbody tr th:only-of-type {\n",
              "        vertical-align: middle;\n",
              "    }\n",
              "\n",
              "    .dataframe tbody tr th {\n",
              "        vertical-align: top;\n",
              "    }\n",
              "\n",
              "    .dataframe thead th {\n",
              "        text-align: right;\n",
              "    }\n",
              "</style>\n",
              "<table border=\"1\" class=\"dataframe\">\n",
              "  <thead>\n",
              "    <tr style=\"text-align: right;\">\n",
              "      <th></th>\n",
              "      <th>tpr</th>\n",
              "      <th>fpr</th>\n",
              "      <th>precision</th>\n",
              "      <th>f1_score</th>\n",
              "      <th>time</th>\n",
              "    </tr>\n",
              "  </thead>\n",
              "  <tbody>\n",
              "    <tr>\n",
              "      <th>gafgyt_udp</th>\n",
              "      <td>1.000000</td>\n",
              "      <td>0.109466</td>\n",
              "      <td>0.995107</td>\n",
              "      <td>0.997547</td>\n",
              "      <td>69.773895</td>\n",
              "    </tr>\n",
              "    <tr>\n",
              "      <th>gafgyt_tcp</th>\n",
              "      <td>1.000000</td>\n",
              "      <td>0.109466</td>\n",
              "      <td>0.994291</td>\n",
              "      <td>0.997137</td>\n",
              "      <td>61.176801</td>\n",
              "    </tr>\n",
              "    <tr>\n",
              "      <th>gafgyt_scan</th>\n",
              "      <td>0.999820</td>\n",
              "      <td>0.109466</td>\n",
              "      <td>0.981998</td>\n",
              "      <td>0.990829</td>\n",
              "      <td>19.819312</td>\n",
              "    </tr>\n",
              "    <tr>\n",
              "      <th>gafgyt_junk</th>\n",
              "      <td>1.000000</td>\n",
              "      <td>0.109466</td>\n",
              "      <td>0.982468</td>\n",
              "      <td>0.991156</td>\n",
              "      <td>19.636249</td>\n",
              "    </tr>\n",
              "    <tr>\n",
              "      <th>gafgyt_combo</th>\n",
              "      <td>0.999982</td>\n",
              "      <td>0.109466</td>\n",
              "      <td>0.990692</td>\n",
              "      <td>0.995315</td>\n",
              "      <td>37.433942</td>\n",
              "    </tr>\n",
              "    <tr>\n",
              "      <th>mirai_udpplain</th>\n",
              "      <td>1.000000</td>\n",
              "      <td>0.109466</td>\n",
              "      <td>0.993524</td>\n",
              "      <td>0.996752</td>\n",
              "      <td>48.203147</td>\n",
              "    </tr>\n",
              "    <tr>\n",
              "      <th>mirai_udp</th>\n",
              "      <td>1.000000</td>\n",
              "      <td>0.109466</td>\n",
              "      <td>0.996653</td>\n",
              "      <td>0.998324</td>\n",
              "      <td>92.458312</td>\n",
              "    </tr>\n",
              "    <tr>\n",
              "      <th>mirai_syn</th>\n",
              "      <td>1.000000</td>\n",
              "      <td>0.109466</td>\n",
              "      <td>0.995960</td>\n",
              "      <td>0.997976</td>\n",
              "      <td>78.022686</td>\n",
              "    </tr>\n",
              "    <tr>\n",
              "      <th>mirai_scan</th>\n",
              "      <td>1.000000</td>\n",
              "      <td>0.109466</td>\n",
              "      <td>0.989018</td>\n",
              "      <td>0.994479</td>\n",
              "      <td>32.282636</td>\n",
              "    </tr>\n",
              "    <tr>\n",
              "      <th>mirai_ack</th>\n",
              "      <td>1.000000</td>\n",
              "      <td>0.109466</td>\n",
              "      <td>0.995446</td>\n",
              "      <td>0.997718</td>\n",
              "      <td>70.618639</td>\n",
              "    </tr>\n",
              "  </tbody>\n",
              "</table>\n",
              "</div>"
            ],
            "text/plain": [
              "                     tpr       fpr  precision  f1_score       time\n",
              "gafgyt_udp      1.000000  0.109466   0.995107  0.997547  69.773895\n",
              "gafgyt_tcp      1.000000  0.109466   0.994291  0.997137  61.176801\n",
              "gafgyt_scan     0.999820  0.109466   0.981998  0.990829  19.819312\n",
              "gafgyt_junk     1.000000  0.109466   0.982468  0.991156  19.636249\n",
              "gafgyt_combo    0.999982  0.109466   0.990692  0.995315  37.433942\n",
              "mirai_udpplain  1.000000  0.109466   0.993524  0.996752  48.203147\n",
              "mirai_udp       1.000000  0.109466   0.996653  0.998324  92.458312\n",
              "mirai_syn       1.000000  0.109466   0.995960  0.997976  78.022686\n",
              "mirai_scan      1.000000  0.109466   0.989018  0.994479  32.282636\n",
              "mirai_ack       1.000000  0.109466   0.995446  0.997718  70.618639"
            ]
          },
          "metadata": {
            "tags": []
          },
          "execution_count": 36
        }
      ]
    },
    {
      "cell_type": "code",
      "metadata": {
        "id": "Do2ea3gOccg3",
        "colab_type": "code",
        "outputId": "c8049eb8-06f8-4f24-da22-46a9a61c413f",
        "colab": {
          "base_uri": "https://localhost:8080/",
          "height": 359
        }
      },
      "source": [
        "osvm_df['model'] = pd.Series(['OC-SVM']*10, dtype=str, index=osvm_df.index)\n",
        "osvm_df.head(10)"
      ],
      "execution_count": 0,
      "outputs": [
        {
          "output_type": "execute_result",
          "data": {
            "text/html": [
              "<div>\n",
              "<style scoped>\n",
              "    .dataframe tbody tr th:only-of-type {\n",
              "        vertical-align: middle;\n",
              "    }\n",
              "\n",
              "    .dataframe tbody tr th {\n",
              "        vertical-align: top;\n",
              "    }\n",
              "\n",
              "    .dataframe thead th {\n",
              "        text-align: right;\n",
              "    }\n",
              "</style>\n",
              "<table border=\"1\" class=\"dataframe\">\n",
              "  <thead>\n",
              "    <tr style=\"text-align: right;\">\n",
              "      <th></th>\n",
              "      <th>tpr</th>\n",
              "      <th>fpr</th>\n",
              "      <th>precision</th>\n",
              "      <th>f1_score</th>\n",
              "      <th>time</th>\n",
              "      <th>model</th>\n",
              "    </tr>\n",
              "  </thead>\n",
              "  <tbody>\n",
              "    <tr>\n",
              "      <th>gafgyt_udp</th>\n",
              "      <td>1.000000</td>\n",
              "      <td>0.109466</td>\n",
              "      <td>0.995107</td>\n",
              "      <td>0.997547</td>\n",
              "      <td>69.773895</td>\n",
              "      <td>OC-SVM</td>\n",
              "    </tr>\n",
              "    <tr>\n",
              "      <th>gafgyt_tcp</th>\n",
              "      <td>1.000000</td>\n",
              "      <td>0.109466</td>\n",
              "      <td>0.994291</td>\n",
              "      <td>0.997137</td>\n",
              "      <td>61.176801</td>\n",
              "      <td>OC-SVM</td>\n",
              "    </tr>\n",
              "    <tr>\n",
              "      <th>gafgyt_scan</th>\n",
              "      <td>0.999820</td>\n",
              "      <td>0.109466</td>\n",
              "      <td>0.981998</td>\n",
              "      <td>0.990829</td>\n",
              "      <td>19.819312</td>\n",
              "      <td>OC-SVM</td>\n",
              "    </tr>\n",
              "    <tr>\n",
              "      <th>gafgyt_junk</th>\n",
              "      <td>1.000000</td>\n",
              "      <td>0.109466</td>\n",
              "      <td>0.982468</td>\n",
              "      <td>0.991156</td>\n",
              "      <td>19.636249</td>\n",
              "      <td>OC-SVM</td>\n",
              "    </tr>\n",
              "    <tr>\n",
              "      <th>gafgyt_combo</th>\n",
              "      <td>0.999982</td>\n",
              "      <td>0.109466</td>\n",
              "      <td>0.990692</td>\n",
              "      <td>0.995315</td>\n",
              "      <td>37.433942</td>\n",
              "      <td>OC-SVM</td>\n",
              "    </tr>\n",
              "    <tr>\n",
              "      <th>mirai_udpplain</th>\n",
              "      <td>1.000000</td>\n",
              "      <td>0.109466</td>\n",
              "      <td>0.993524</td>\n",
              "      <td>0.996752</td>\n",
              "      <td>48.203147</td>\n",
              "      <td>OC-SVM</td>\n",
              "    </tr>\n",
              "    <tr>\n",
              "      <th>mirai_udp</th>\n",
              "      <td>1.000000</td>\n",
              "      <td>0.109466</td>\n",
              "      <td>0.996653</td>\n",
              "      <td>0.998324</td>\n",
              "      <td>92.458312</td>\n",
              "      <td>OC-SVM</td>\n",
              "    </tr>\n",
              "    <tr>\n",
              "      <th>mirai_syn</th>\n",
              "      <td>1.000000</td>\n",
              "      <td>0.109466</td>\n",
              "      <td>0.995960</td>\n",
              "      <td>0.997976</td>\n",
              "      <td>78.022686</td>\n",
              "      <td>OC-SVM</td>\n",
              "    </tr>\n",
              "    <tr>\n",
              "      <th>mirai_scan</th>\n",
              "      <td>1.000000</td>\n",
              "      <td>0.109466</td>\n",
              "      <td>0.989018</td>\n",
              "      <td>0.994479</td>\n",
              "      <td>32.282636</td>\n",
              "      <td>OC-SVM</td>\n",
              "    </tr>\n",
              "    <tr>\n",
              "      <th>mirai_ack</th>\n",
              "      <td>1.000000</td>\n",
              "      <td>0.109466</td>\n",
              "      <td>0.995446</td>\n",
              "      <td>0.997718</td>\n",
              "      <td>70.618639</td>\n",
              "      <td>OC-SVM</td>\n",
              "    </tr>\n",
              "  </tbody>\n",
              "</table>\n",
              "</div>"
            ],
            "text/plain": [
              "                     tpr       fpr  precision  f1_score       time   model\n",
              "gafgyt_udp      1.000000  0.109466   0.995107  0.997547  69.773895  OC-SVM\n",
              "gafgyt_tcp      1.000000  0.109466   0.994291  0.997137  61.176801  OC-SVM\n",
              "gafgyt_scan     0.999820  0.109466   0.981998  0.990829  19.819312  OC-SVM\n",
              "gafgyt_junk     1.000000  0.109466   0.982468  0.991156  19.636249  OC-SVM\n",
              "gafgyt_combo    0.999982  0.109466   0.990692  0.995315  37.433942  OC-SVM\n",
              "mirai_udpplain  1.000000  0.109466   0.993524  0.996752  48.203147  OC-SVM\n",
              "mirai_udp       1.000000  0.109466   0.996653  0.998324  92.458312  OC-SVM\n",
              "mirai_syn       1.000000  0.109466   0.995960  0.997976  78.022686  OC-SVM\n",
              "mirai_scan      1.000000  0.109466   0.989018  0.994479  32.282636  OC-SVM\n",
              "mirai_ack       1.000000  0.109466   0.995446  0.997718  70.618639  OC-SVM"
            ]
          },
          "metadata": {
            "tags": []
          },
          "execution_count": 54
        }
      ]
    },
    {
      "cell_type": "markdown",
      "metadata": {
        "id": "51tXfg1WSqI5",
        "colab_type": "text"
      },
      "source": [
        "#### 2.3 LOF"
      ]
    },
    {
      "cell_type": "code",
      "metadata": {
        "id": "3lzpT24aStrF",
        "colab_type": "code",
        "colab": {}
      },
      "source": [
        "from sklearn.neighbors import LocalOutlierFactor"
      ],
      "execution_count": 0,
      "outputs": []
    },
    {
      "cell_type": "code",
      "metadata": {
        "id": "Gnk8oTZDSxaR",
        "colab_type": "code",
        "colab": {}
      },
      "source": [
        "lof = LocalOutlierFactor(novelty=True, n_jobs=-1)"
      ],
      "execution_count": 0,
      "outputs": []
    },
    {
      "cell_type": "code",
      "metadata": {
        "id": "0HaAncHiS-za",
        "colab_type": "code",
        "outputId": "c2ce060f-0076-4be8-995e-d452de1f7a28",
        "colab": {
          "base_uri": "https://localhost:8080/",
          "height": 142
        }
      },
      "source": [
        "lof.fit(train_df)"
      ],
      "execution_count": 0,
      "outputs": [
        {
          "output_type": "stream",
          "text": [
            "/usr/local/lib/python3.6/dist-packages/sklearn/neighbors/lof.py:236: FutureWarning: default contamination parameter 0.1 will change in version 0.22 to \"auto\". This will change the predict method behavior.\n",
            "  FutureWarning)\n"
          ],
          "name": "stderr"
        },
        {
          "output_type": "execute_result",
          "data": {
            "text/plain": [
              "LocalOutlierFactor(algorithm='auto', contamination='legacy', leaf_size=30,\n",
              "                   metric='minkowski', metric_params=None, n_jobs=-1,\n",
              "                   n_neighbors=20, novelty=True, p=2)"
            ]
          },
          "metadata": {
            "tags": []
          },
          "execution_count": 39
        }
      ]
    },
    {
      "cell_type": "code",
      "metadata": {
        "id": "tfzXqXoQTKn8",
        "colab_type": "code",
        "outputId": "60658595-a0bf-4848-88ee-d0e0bb151ad0",
        "colab": {
          "base_uri": "https://localhost:8080/",
          "height": 359
        }
      },
      "source": [
        "lof_df = evaluate_model(test_df, lof, normalizer)\n",
        "lof_df.head(10)"
      ],
      "execution_count": 0,
      "outputs": [
        {
          "output_type": "execute_result",
          "data": {
            "text/html": [
              "<div>\n",
              "<style scoped>\n",
              "    .dataframe tbody tr th:only-of-type {\n",
              "        vertical-align: middle;\n",
              "    }\n",
              "\n",
              "    .dataframe tbody tr th {\n",
              "        vertical-align: top;\n",
              "    }\n",
              "\n",
              "    .dataframe thead th {\n",
              "        text-align: right;\n",
              "    }\n",
              "</style>\n",
              "<table border=\"1\" class=\"dataframe\">\n",
              "  <thead>\n",
              "    <tr style=\"text-align: right;\">\n",
              "      <th></th>\n",
              "      <th>tpr</th>\n",
              "      <th>fpr</th>\n",
              "      <th>precision</th>\n",
              "      <th>f1_score</th>\n",
              "      <th>time</th>\n",
              "    </tr>\n",
              "  </thead>\n",
              "  <tbody>\n",
              "    <tr>\n",
              "      <th>gafgyt_udp</th>\n",
              "      <td>0.000983</td>\n",
              "      <td>0.104958</td>\n",
              "      <td>0.172589</td>\n",
              "      <td>0.001956</td>\n",
              "      <td>71.416533</td>\n",
              "    </tr>\n",
              "    <tr>\n",
              "      <th>gafgyt_tcp</th>\n",
              "      <td>0.000968</td>\n",
              "      <td>0.104958</td>\n",
              "      <td>0.149565</td>\n",
              "      <td>0.001924</td>\n",
              "      <td>62.176886</td>\n",
              "    </tr>\n",
              "    <tr>\n",
              "      <th>gafgyt_scan</th>\n",
              "      <td>0.999353</td>\n",
              "      <td>0.104958</td>\n",
              "      <td>0.982718</td>\n",
              "      <td>0.990966</td>\n",
              "      <td>38.598474</td>\n",
              "    </tr>\n",
              "    <tr>\n",
              "      <th>gafgyt_junk</th>\n",
              "      <td>0.999755</td>\n",
              "      <td>0.104958</td>\n",
              "      <td>0.983173</td>\n",
              "      <td>0.991395</td>\n",
              "      <td>18.270626</td>\n",
              "    </tr>\n",
              "    <tr>\n",
              "      <th>gafgyt_combo</th>\n",
              "      <td>0.999926</td>\n",
              "      <td>0.104958</td>\n",
              "      <td>0.991071</td>\n",
              "      <td>0.995479</td>\n",
              "      <td>22.792559</td>\n",
              "    </tr>\n",
              "    <tr>\n",
              "      <th>mirai_udpplain</th>\n",
              "      <td>0.999987</td>\n",
              "      <td>0.104958</td>\n",
              "      <td>0.993789</td>\n",
              "      <td>0.996879</td>\n",
              "      <td>41.452239</td>\n",
              "    </tr>\n",
              "    <tr>\n",
              "      <th>mirai_udp</th>\n",
              "      <td>0.999941</td>\n",
              "      <td>0.104958</td>\n",
              "      <td>0.996790</td>\n",
              "      <td>0.998363</td>\n",
              "      <td>60.627227</td>\n",
              "    </tr>\n",
              "    <tr>\n",
              "      <th>mirai_syn</th>\n",
              "      <td>0.999960</td>\n",
              "      <td>0.104958</td>\n",
              "      <td>0.996125</td>\n",
              "      <td>0.998039</td>\n",
              "      <td>42.282323</td>\n",
              "    </tr>\n",
              "    <tr>\n",
              "      <th>mirai_scan</th>\n",
              "      <td>0.999042</td>\n",
              "      <td>0.104958</td>\n",
              "      <td>0.989456</td>\n",
              "      <td>0.994226</td>\n",
              "      <td>51.041817</td>\n",
              "    </tr>\n",
              "    <tr>\n",
              "      <th>mirai_ack</th>\n",
              "      <td>1.000000</td>\n",
              "      <td>0.104958</td>\n",
              "      <td>0.995633</td>\n",
              "      <td>0.997812</td>\n",
              "      <td>48.292755</td>\n",
              "    </tr>\n",
              "  </tbody>\n",
              "</table>\n",
              "</div>"
            ],
            "text/plain": [
              "                     tpr       fpr  precision  f1_score       time\n",
              "gafgyt_udp      0.000983  0.104958   0.172589  0.001956  71.416533\n",
              "gafgyt_tcp      0.000968  0.104958   0.149565  0.001924  62.176886\n",
              "gafgyt_scan     0.999353  0.104958   0.982718  0.990966  38.598474\n",
              "gafgyt_junk     0.999755  0.104958   0.983173  0.991395  18.270626\n",
              "gafgyt_combo    0.999926  0.104958   0.991071  0.995479  22.792559\n",
              "mirai_udpplain  0.999987  0.104958   0.993789  0.996879  41.452239\n",
              "mirai_udp       0.999941  0.104958   0.996790  0.998363  60.627227\n",
              "mirai_syn       0.999960  0.104958   0.996125  0.998039  42.282323\n",
              "mirai_scan      0.999042  0.104958   0.989456  0.994226  51.041817\n",
              "mirai_ack       1.000000  0.104958   0.995633  0.997812  48.292755"
            ]
          },
          "metadata": {
            "tags": []
          },
          "execution_count": 40
        }
      ]
    },
    {
      "cell_type": "code",
      "metadata": {
        "id": "ID3UrJf0cojS",
        "colab_type": "code",
        "outputId": "c1bd2151-2e91-4104-95b9-326ec02bfab3",
        "colab": {
          "base_uri": "https://localhost:8080/",
          "height": 359
        }
      },
      "source": [
        "lof_df['model'] = pd.Series(['LOF']*10, dtype=str, index=lof_df.index)\n",
        "lof_df.head(10)"
      ],
      "execution_count": 0,
      "outputs": [
        {
          "output_type": "execute_result",
          "data": {
            "text/html": [
              "<div>\n",
              "<style scoped>\n",
              "    .dataframe tbody tr th:only-of-type {\n",
              "        vertical-align: middle;\n",
              "    }\n",
              "\n",
              "    .dataframe tbody tr th {\n",
              "        vertical-align: top;\n",
              "    }\n",
              "\n",
              "    .dataframe thead th {\n",
              "        text-align: right;\n",
              "    }\n",
              "</style>\n",
              "<table border=\"1\" class=\"dataframe\">\n",
              "  <thead>\n",
              "    <tr style=\"text-align: right;\">\n",
              "      <th></th>\n",
              "      <th>tpr</th>\n",
              "      <th>fpr</th>\n",
              "      <th>precision</th>\n",
              "      <th>f1_score</th>\n",
              "      <th>time</th>\n",
              "      <th>model</th>\n",
              "    </tr>\n",
              "  </thead>\n",
              "  <tbody>\n",
              "    <tr>\n",
              "      <th>gafgyt_udp</th>\n",
              "      <td>0.000983</td>\n",
              "      <td>0.104958</td>\n",
              "      <td>0.172589</td>\n",
              "      <td>0.001956</td>\n",
              "      <td>71.416533</td>\n",
              "      <td>LOF</td>\n",
              "    </tr>\n",
              "    <tr>\n",
              "      <th>gafgyt_tcp</th>\n",
              "      <td>0.000968</td>\n",
              "      <td>0.104958</td>\n",
              "      <td>0.149565</td>\n",
              "      <td>0.001924</td>\n",
              "      <td>62.176886</td>\n",
              "      <td>LOF</td>\n",
              "    </tr>\n",
              "    <tr>\n",
              "      <th>gafgyt_scan</th>\n",
              "      <td>0.999353</td>\n",
              "      <td>0.104958</td>\n",
              "      <td>0.982718</td>\n",
              "      <td>0.990966</td>\n",
              "      <td>38.598474</td>\n",
              "      <td>LOF</td>\n",
              "    </tr>\n",
              "    <tr>\n",
              "      <th>gafgyt_junk</th>\n",
              "      <td>0.999755</td>\n",
              "      <td>0.104958</td>\n",
              "      <td>0.983173</td>\n",
              "      <td>0.991395</td>\n",
              "      <td>18.270626</td>\n",
              "      <td>LOF</td>\n",
              "    </tr>\n",
              "    <tr>\n",
              "      <th>gafgyt_combo</th>\n",
              "      <td>0.999926</td>\n",
              "      <td>0.104958</td>\n",
              "      <td>0.991071</td>\n",
              "      <td>0.995479</td>\n",
              "      <td>22.792559</td>\n",
              "      <td>LOF</td>\n",
              "    </tr>\n",
              "    <tr>\n",
              "      <th>mirai_udpplain</th>\n",
              "      <td>0.999987</td>\n",
              "      <td>0.104958</td>\n",
              "      <td>0.993789</td>\n",
              "      <td>0.996879</td>\n",
              "      <td>41.452239</td>\n",
              "      <td>LOF</td>\n",
              "    </tr>\n",
              "    <tr>\n",
              "      <th>mirai_udp</th>\n",
              "      <td>0.999941</td>\n",
              "      <td>0.104958</td>\n",
              "      <td>0.996790</td>\n",
              "      <td>0.998363</td>\n",
              "      <td>60.627227</td>\n",
              "      <td>LOF</td>\n",
              "    </tr>\n",
              "    <tr>\n",
              "      <th>mirai_syn</th>\n",
              "      <td>0.999960</td>\n",
              "      <td>0.104958</td>\n",
              "      <td>0.996125</td>\n",
              "      <td>0.998039</td>\n",
              "      <td>42.282323</td>\n",
              "      <td>LOF</td>\n",
              "    </tr>\n",
              "    <tr>\n",
              "      <th>mirai_scan</th>\n",
              "      <td>0.999042</td>\n",
              "      <td>0.104958</td>\n",
              "      <td>0.989456</td>\n",
              "      <td>0.994226</td>\n",
              "      <td>51.041817</td>\n",
              "      <td>LOF</td>\n",
              "    </tr>\n",
              "    <tr>\n",
              "      <th>mirai_ack</th>\n",
              "      <td>1.000000</td>\n",
              "      <td>0.104958</td>\n",
              "      <td>0.995633</td>\n",
              "      <td>0.997812</td>\n",
              "      <td>48.292755</td>\n",
              "      <td>LOF</td>\n",
              "    </tr>\n",
              "  </tbody>\n",
              "</table>\n",
              "</div>"
            ],
            "text/plain": [
              "                     tpr       fpr  precision  f1_score       time model\n",
              "gafgyt_udp      0.000983  0.104958   0.172589  0.001956  71.416533   LOF\n",
              "gafgyt_tcp      0.000968  0.104958   0.149565  0.001924  62.176886   LOF\n",
              "gafgyt_scan     0.999353  0.104958   0.982718  0.990966  38.598474   LOF\n",
              "gafgyt_junk     0.999755  0.104958   0.983173  0.991395  18.270626   LOF\n",
              "gafgyt_combo    0.999926  0.104958   0.991071  0.995479  22.792559   LOF\n",
              "mirai_udpplain  0.999987  0.104958   0.993789  0.996879  41.452239   LOF\n",
              "mirai_udp       0.999941  0.104958   0.996790  0.998363  60.627227   LOF\n",
              "mirai_syn       0.999960  0.104958   0.996125  0.998039  42.282323   LOF\n",
              "mirai_scan      0.999042  0.104958   0.989456  0.994226  51.041817   LOF\n",
              "mirai_ack       1.000000  0.104958   0.995633  0.997812  48.292755   LOF"
            ]
          },
          "metadata": {
            "tags": []
          },
          "execution_count": 55
        }
      ]
    },
    {
      "cell_type": "markdown",
      "metadata": {
        "id": "Vy-BQG0FUuMw",
        "colab_type": "text"
      },
      "source": [
        "#### 2.4 Isolation Forest"
      ]
    },
    {
      "cell_type": "code",
      "metadata": {
        "id": "ZVUu-UJ-TmYd",
        "colab_type": "code",
        "colab": {}
      },
      "source": [
        "from sklearn.ensemble import IsolationForest"
      ],
      "execution_count": 0,
      "outputs": []
    },
    {
      "cell_type": "code",
      "metadata": {
        "id": "fRYF4hYiUzgF",
        "colab_type": "code",
        "colab": {}
      },
      "source": [
        "iso_forest = IsolationForest(n_jobs=-1)"
      ],
      "execution_count": 0,
      "outputs": []
    },
    {
      "cell_type": "code",
      "metadata": {
        "id": "viW6kkiIVTZs",
        "colab_type": "code",
        "outputId": "5264625a-d877-4f47-8a2b-c04a164d9af2",
        "colab": {
          "base_uri": "https://localhost:8080/",
          "height": 176
        }
      },
      "source": [
        "iso_forest.fit(train_df)"
      ],
      "execution_count": 0,
      "outputs": [
        {
          "output_type": "stream",
          "text": [
            "/usr/local/lib/python3.6/dist-packages/sklearn/ensemble/iforest.py:237: FutureWarning: default contamination parameter 0.1 will change in version 0.22 to \"auto\". This will change the predict method behavior.\n",
            "  FutureWarning)\n",
            "/usr/local/lib/python3.6/dist-packages/sklearn/ensemble/iforest.py:247: FutureWarning: behaviour=\"old\" is deprecated and will be removed in version 0.22. Please use behaviour=\"new\", which makes the decision_function change to match other anomaly detection algorithm API.\n",
            "  FutureWarning)\n"
          ],
          "name": "stderr"
        },
        {
          "output_type": "execute_result",
          "data": {
            "text/plain": [
              "IsolationForest(behaviour='old', bootstrap=False, contamination='legacy',\n",
              "                max_features=1.0, max_samples='auto', n_estimators=100,\n",
              "                n_jobs=-1, random_state=None, verbose=0, warm_start=False)"
            ]
          },
          "metadata": {
            "tags": []
          },
          "execution_count": 43
        }
      ]
    },
    {
      "cell_type": "code",
      "metadata": {
        "id": "p1waD_PpVWaz",
        "colab_type": "code",
        "outputId": "4849cbf8-ceb1-4bbe-c138-96179c03b7a2",
        "colab": {
          "base_uri": "https://localhost:8080/",
          "height": 739
        }
      },
      "source": [
        "if_df = evaluate_model(test_df, iso_forest, normalizer)\n",
        "if_df.head(10)"
      ],
      "execution_count": 0,
      "outputs": [
        {
          "output_type": "stream",
          "text": [
            "/usr/local/lib/python3.6/dist-packages/sklearn/ensemble/iforest.py:415: DeprecationWarning: threshold_ attribute is deprecated in 0.20 and will be removed in 0.22.\n",
            "  \" be removed in 0.22.\", DeprecationWarning)\n",
            "/usr/local/lib/python3.6/dist-packages/sklearn/ensemble/iforest.py:415: DeprecationWarning: threshold_ attribute is deprecated in 0.20 and will be removed in 0.22.\n",
            "  \" be removed in 0.22.\", DeprecationWarning)\n",
            "/usr/local/lib/python3.6/dist-packages/sklearn/ensemble/iforest.py:415: DeprecationWarning: threshold_ attribute is deprecated in 0.20 and will be removed in 0.22.\n",
            "  \" be removed in 0.22.\", DeprecationWarning)\n",
            "/usr/local/lib/python3.6/dist-packages/sklearn/ensemble/iforest.py:415: DeprecationWarning: threshold_ attribute is deprecated in 0.20 and will be removed in 0.22.\n",
            "  \" be removed in 0.22.\", DeprecationWarning)\n",
            "/usr/local/lib/python3.6/dist-packages/sklearn/ensemble/iforest.py:415: DeprecationWarning: threshold_ attribute is deprecated in 0.20 and will be removed in 0.22.\n",
            "  \" be removed in 0.22.\", DeprecationWarning)\n",
            "/usr/local/lib/python3.6/dist-packages/sklearn/ensemble/iforest.py:415: DeprecationWarning: threshold_ attribute is deprecated in 0.20 and will be removed in 0.22.\n",
            "  \" be removed in 0.22.\", DeprecationWarning)\n",
            "/usr/local/lib/python3.6/dist-packages/sklearn/ensemble/iforest.py:415: DeprecationWarning: threshold_ attribute is deprecated in 0.20 and will be removed in 0.22.\n",
            "  \" be removed in 0.22.\", DeprecationWarning)\n",
            "/usr/local/lib/python3.6/dist-packages/sklearn/ensemble/iforest.py:415: DeprecationWarning: threshold_ attribute is deprecated in 0.20 and will be removed in 0.22.\n",
            "  \" be removed in 0.22.\", DeprecationWarning)\n",
            "/usr/local/lib/python3.6/dist-packages/sklearn/ensemble/iforest.py:415: DeprecationWarning: threshold_ attribute is deprecated in 0.20 and will be removed in 0.22.\n",
            "  \" be removed in 0.22.\", DeprecationWarning)\n",
            "/usr/local/lib/python3.6/dist-packages/sklearn/ensemble/iforest.py:415: DeprecationWarning: threshold_ attribute is deprecated in 0.20 and will be removed in 0.22.\n",
            "  \" be removed in 0.22.\", DeprecationWarning)\n"
          ],
          "name": "stderr"
        },
        {
          "output_type": "execute_result",
          "data": {
            "text/html": [
              "<div>\n",
              "<style scoped>\n",
              "    .dataframe tbody tr th:only-of-type {\n",
              "        vertical-align: middle;\n",
              "    }\n",
              "\n",
              "    .dataframe tbody tr th {\n",
              "        vertical-align: top;\n",
              "    }\n",
              "\n",
              "    .dataframe thead th {\n",
              "        text-align: right;\n",
              "    }\n",
              "</style>\n",
              "<table border=\"1\" class=\"dataframe\">\n",
              "  <thead>\n",
              "    <tr style=\"text-align: right;\">\n",
              "      <th></th>\n",
              "      <th>tpr</th>\n",
              "      <th>fpr</th>\n",
              "      <th>precision</th>\n",
              "      <th>f1_score</th>\n",
              "      <th>time</th>\n",
              "    </tr>\n",
              "  </thead>\n",
              "  <tbody>\n",
              "    <tr>\n",
              "      <th>gafgyt_udp</th>\n",
              "      <td>0.999499</td>\n",
              "      <td>0.103456</td>\n",
              "      <td>0.995372</td>\n",
              "      <td>0.997431</td>\n",
              "      <td>9.146288</td>\n",
              "    </tr>\n",
              "    <tr>\n",
              "      <th>gafgyt_tcp</th>\n",
              "      <td>0.999640</td>\n",
              "      <td>0.103456</td>\n",
              "      <td>0.994600</td>\n",
              "      <td>0.997114</td>\n",
              "      <td>8.290274</td>\n",
              "    </tr>\n",
              "    <tr>\n",
              "      <th>gafgyt_scan</th>\n",
              "      <td>0.999641</td>\n",
              "      <td>0.103456</td>\n",
              "      <td>0.982966</td>\n",
              "      <td>0.991233</td>\n",
              "      <td>2.099085</td>\n",
              "    </tr>\n",
              "    <tr>\n",
              "      <th>gafgyt_junk</th>\n",
              "      <td>0.999965</td>\n",
              "      <td>0.103456</td>\n",
              "      <td>0.983414</td>\n",
              "      <td>0.991620</td>\n",
              "      <td>2.161964</td>\n",
              "    </tr>\n",
              "    <tr>\n",
              "      <th>gafgyt_combo</th>\n",
              "      <td>0.999982</td>\n",
              "      <td>0.103456</td>\n",
              "      <td>0.991199</td>\n",
              "      <td>0.995571</td>\n",
              "      <td>4.322538</td>\n",
              "    </tr>\n",
              "    <tr>\n",
              "      <th>mirai_udpplain</th>\n",
              "      <td>1.000000</td>\n",
              "      <td>0.103456</td>\n",
              "      <td>0.993877</td>\n",
              "      <td>0.996929</td>\n",
              "      <td>6.357152</td>\n",
              "    </tr>\n",
              "    <tr>\n",
              "      <th>mirai_udp</th>\n",
              "      <td>1.000000</td>\n",
              "      <td>0.103456</td>\n",
              "      <td>0.996836</td>\n",
              "      <td>0.998416</td>\n",
              "      <td>12.768809</td>\n",
              "    </tr>\n",
              "    <tr>\n",
              "      <th>mirai_syn</th>\n",
              "      <td>1.000000</td>\n",
              "      <td>0.103456</td>\n",
              "      <td>0.996181</td>\n",
              "      <td>0.998087</td>\n",
              "      <td>11.109628</td>\n",
              "    </tr>\n",
              "    <tr>\n",
              "      <th>mirai_scan</th>\n",
              "      <td>0.999978</td>\n",
              "      <td>0.103456</td>\n",
              "      <td>0.989615</td>\n",
              "      <td>0.994769</td>\n",
              "      <td>3.852470</td>\n",
              "    </tr>\n",
              "    <tr>\n",
              "      <th>mirai_ack</th>\n",
              "      <td>1.000000</td>\n",
              "      <td>0.103456</td>\n",
              "      <td>0.995695</td>\n",
              "      <td>0.997843</td>\n",
              "      <td>9.510426</td>\n",
              "    </tr>\n",
              "  </tbody>\n",
              "</table>\n",
              "</div>"
            ],
            "text/plain": [
              "                     tpr       fpr  precision  f1_score       time\n",
              "gafgyt_udp      0.999499  0.103456   0.995372  0.997431   9.146288\n",
              "gafgyt_tcp      0.999640  0.103456   0.994600  0.997114   8.290274\n",
              "gafgyt_scan     0.999641  0.103456   0.982966  0.991233   2.099085\n",
              "gafgyt_junk     0.999965  0.103456   0.983414  0.991620   2.161964\n",
              "gafgyt_combo    0.999982  0.103456   0.991199  0.995571   4.322538\n",
              "mirai_udpplain  1.000000  0.103456   0.993877  0.996929   6.357152\n",
              "mirai_udp       1.000000  0.103456   0.996836  0.998416  12.768809\n",
              "mirai_syn       1.000000  0.103456   0.996181  0.998087  11.109628\n",
              "mirai_scan      0.999978  0.103456   0.989615  0.994769   3.852470\n",
              "mirai_ack       1.000000  0.103456   0.995695  0.997843   9.510426"
            ]
          },
          "metadata": {
            "tags": []
          },
          "execution_count": 44
        }
      ]
    },
    {
      "cell_type": "code",
      "metadata": {
        "id": "_eK3ocl-cyRa",
        "colab_type": "code",
        "outputId": "a90aee60-ec5f-4d61-812e-0fa9728a15f3",
        "colab": {
          "base_uri": "https://localhost:8080/",
          "height": 359
        }
      },
      "source": [
        "if_df['model'] = pd.Series(['IF']*10, dtype=str, index=if_df.index)\n",
        "if_df.head(10)"
      ],
      "execution_count": 0,
      "outputs": [
        {
          "output_type": "execute_result",
          "data": {
            "text/html": [
              "<div>\n",
              "<style scoped>\n",
              "    .dataframe tbody tr th:only-of-type {\n",
              "        vertical-align: middle;\n",
              "    }\n",
              "\n",
              "    .dataframe tbody tr th {\n",
              "        vertical-align: top;\n",
              "    }\n",
              "\n",
              "    .dataframe thead th {\n",
              "        text-align: right;\n",
              "    }\n",
              "</style>\n",
              "<table border=\"1\" class=\"dataframe\">\n",
              "  <thead>\n",
              "    <tr style=\"text-align: right;\">\n",
              "      <th></th>\n",
              "      <th>tpr</th>\n",
              "      <th>fpr</th>\n",
              "      <th>precision</th>\n",
              "      <th>f1_score</th>\n",
              "      <th>time</th>\n",
              "      <th>model</th>\n",
              "    </tr>\n",
              "  </thead>\n",
              "  <tbody>\n",
              "    <tr>\n",
              "      <th>gafgyt_udp</th>\n",
              "      <td>0.999499</td>\n",
              "      <td>0.103456</td>\n",
              "      <td>0.995372</td>\n",
              "      <td>0.997431</td>\n",
              "      <td>9.146288</td>\n",
              "      <td>IF</td>\n",
              "    </tr>\n",
              "    <tr>\n",
              "      <th>gafgyt_tcp</th>\n",
              "      <td>0.999640</td>\n",
              "      <td>0.103456</td>\n",
              "      <td>0.994600</td>\n",
              "      <td>0.997114</td>\n",
              "      <td>8.290274</td>\n",
              "      <td>IF</td>\n",
              "    </tr>\n",
              "    <tr>\n",
              "      <th>gafgyt_scan</th>\n",
              "      <td>0.999641</td>\n",
              "      <td>0.103456</td>\n",
              "      <td>0.982966</td>\n",
              "      <td>0.991233</td>\n",
              "      <td>2.099085</td>\n",
              "      <td>IF</td>\n",
              "    </tr>\n",
              "    <tr>\n",
              "      <th>gafgyt_junk</th>\n",
              "      <td>0.999965</td>\n",
              "      <td>0.103456</td>\n",
              "      <td>0.983414</td>\n",
              "      <td>0.991620</td>\n",
              "      <td>2.161964</td>\n",
              "      <td>IF</td>\n",
              "    </tr>\n",
              "    <tr>\n",
              "      <th>gafgyt_combo</th>\n",
              "      <td>0.999982</td>\n",
              "      <td>0.103456</td>\n",
              "      <td>0.991199</td>\n",
              "      <td>0.995571</td>\n",
              "      <td>4.322538</td>\n",
              "      <td>IF</td>\n",
              "    </tr>\n",
              "    <tr>\n",
              "      <th>mirai_udpplain</th>\n",
              "      <td>1.000000</td>\n",
              "      <td>0.103456</td>\n",
              "      <td>0.993877</td>\n",
              "      <td>0.996929</td>\n",
              "      <td>6.357152</td>\n",
              "      <td>IF</td>\n",
              "    </tr>\n",
              "    <tr>\n",
              "      <th>mirai_udp</th>\n",
              "      <td>1.000000</td>\n",
              "      <td>0.103456</td>\n",
              "      <td>0.996836</td>\n",
              "      <td>0.998416</td>\n",
              "      <td>12.768809</td>\n",
              "      <td>IF</td>\n",
              "    </tr>\n",
              "    <tr>\n",
              "      <th>mirai_syn</th>\n",
              "      <td>1.000000</td>\n",
              "      <td>0.103456</td>\n",
              "      <td>0.996181</td>\n",
              "      <td>0.998087</td>\n",
              "      <td>11.109628</td>\n",
              "      <td>IF</td>\n",
              "    </tr>\n",
              "    <tr>\n",
              "      <th>mirai_scan</th>\n",
              "      <td>0.999978</td>\n",
              "      <td>0.103456</td>\n",
              "      <td>0.989615</td>\n",
              "      <td>0.994769</td>\n",
              "      <td>3.852470</td>\n",
              "      <td>IF</td>\n",
              "    </tr>\n",
              "    <tr>\n",
              "      <th>mirai_ack</th>\n",
              "      <td>1.000000</td>\n",
              "      <td>0.103456</td>\n",
              "      <td>0.995695</td>\n",
              "      <td>0.997843</td>\n",
              "      <td>9.510426</td>\n",
              "      <td>IF</td>\n",
              "    </tr>\n",
              "  </tbody>\n",
              "</table>\n",
              "</div>"
            ],
            "text/plain": [
              "                     tpr       fpr  precision  f1_score       time model\n",
              "gafgyt_udp      0.999499  0.103456   0.995372  0.997431   9.146288    IF\n",
              "gafgyt_tcp      0.999640  0.103456   0.994600  0.997114   8.290274    IF\n",
              "gafgyt_scan     0.999641  0.103456   0.982966  0.991233   2.099085    IF\n",
              "gafgyt_junk     0.999965  0.103456   0.983414  0.991620   2.161964    IF\n",
              "gafgyt_combo    0.999982  0.103456   0.991199  0.995571   4.322538    IF\n",
              "mirai_udpplain  1.000000  0.103456   0.993877  0.996929   6.357152    IF\n",
              "mirai_udp       1.000000  0.103456   0.996836  0.998416  12.768809    IF\n",
              "mirai_syn       1.000000  0.103456   0.996181  0.998087  11.109628    IF\n",
              "mirai_scan      0.999978  0.103456   0.989615  0.994769   3.852470    IF\n",
              "mirai_ack       1.000000  0.103456   0.995695  0.997843   9.510426    IF"
            ]
          },
          "metadata": {
            "tags": []
          },
          "execution_count": 56
        }
      ]
    },
    {
      "cell_type": "markdown",
      "metadata": {
        "id": "Jzn6679LnsBG",
        "colab_type": "text"
      },
      "source": [
        "Визуализация результатов"
      ]
    },
    {
      "cell_type": "code",
      "metadata": {
        "id": "euHdD12sc5YO",
        "colab_type": "code",
        "colab": {}
      },
      "source": [
        "common_df = pd.concat((dae_df, osvm_df, lof_df, if_df))\n",
        "len(common_df)"
      ],
      "execution_count": 0,
      "outputs": []
    },
    {
      "cell_type": "code",
      "metadata": {
        "id": "YXyQ7q4FooT5",
        "colab_type": "code",
        "outputId": "0320ae6a-c541-408b-b423-6f5c27f1a078",
        "colab": {
          "base_uri": "https://localhost:8080/",
          "height": 308
        }
      },
      "source": [
        "sns.boxplot(x=\"model\", y=\"tpr\", data=common_df)"
      ],
      "execution_count": 0,
      "outputs": [
        {
          "output_type": "execute_result",
          "data": {
            "text/plain": [
              "<matplotlib.axes._subplots.AxesSubplot at 0x7ff7c36c2128>"
            ]
          },
          "metadata": {
            "tags": []
          },
          "execution_count": 62
        },
        {
          "output_type": "display_data",
          "data": {
            "image/png": "[encoded data removed]",
            "text/plain": [
              "<Figure size 432x288 with 1 Axes>"
            ]
          },
          "metadata": {
            "tags": []
          }
        }
      ]
    },
    {
      "cell_type": "code",
      "metadata": {
        "id": "QMnirKqzdg9a",
        "colab_type": "code",
        "outputId": "f5205457-886c-40d2-9358-143d0437c63e",
        "colab": {
          "base_uri": "https://localhost:8080/",
          "height": 308
        }
      },
      "source": [
        "sns.boxplot(x=\"model\", y=\"fpr\", data=common_df);"
      ],
      "execution_count": 0,
      "outputs": [
        {
          "output_type": "execute_result",
          "data": {
            "text/plain": [
              "<matplotlib.axes._subplots.AxesSubplot at 0x7ff7c18796a0>"
            ]
          },
          "metadata": {
            "tags": []
          },
          "execution_count": 63
        },
        {
          "output_type": "display_data",
          "data": {
            "image/png": "[encoded data removed]",
            "text/plain": [
              "<Figure size 432x288 with 1 Axes>"
            ]
          },
          "metadata": {
            "tags": []
          }
        }
      ]
    },
    {
      "cell_type": "code",
      "metadata": {
        "id": "RBqqhcRIdvXM",
        "colab_type": "code",
        "outputId": "3c4dbf69-33db-4a3a-e88c-0503ce1839b2",
        "colab": {
          "base_uri": "https://localhost:8080/",
          "height": 204
        }
      },
      "source": [
        "agg_df = common_df.groupby('model').apply(np.mean)\n",
        "agg_df['model'] = agg_df.index\n",
        "agg_df.head()"
      ],
      "execution_count": 0,
      "outputs": [
        {
          "output_type": "execute_result",
          "data": {
            "text/html": [
              "<div>\n",
              "<style scoped>\n",
              "    .dataframe tbody tr th:only-of-type {\n",
              "        vertical-align: middle;\n",
              "    }\n",
              "\n",
              "    .dataframe tbody tr th {\n",
              "        vertical-align: top;\n",
              "    }\n",
              "\n",
              "    .dataframe thead th {\n",
              "        text-align: right;\n",
              "    }\n",
              "</style>\n",
              "<table border=\"1\" class=\"dataframe\">\n",
              "  <thead>\n",
              "    <tr style=\"text-align: right;\">\n",
              "      <th></th>\n",
              "      <th>tpr</th>\n",
              "      <th>fpr</th>\n",
              "      <th>precision</th>\n",
              "      <th>f1_score</th>\n",
              "      <th>time</th>\n",
              "      <th>model</th>\n",
              "    </tr>\n",
              "    <tr>\n",
              "      <th>model</th>\n",
              "      <th></th>\n",
              "      <th></th>\n",
              "      <th></th>\n",
              "      <th></th>\n",
              "      <th></th>\n",
              "      <th></th>\n",
              "    </tr>\n",
              "  </thead>\n",
              "  <tbody>\n",
              "    <tr>\n",
              "      <th>Autoencoder</th>\n",
              "      <td>0.999849</td>\n",
              "      <td>0.032410</td>\n",
              "      <td>0.997467</td>\n",
              "      <td>0.998656</td>\n",
              "      <td>0.310462</td>\n",
              "      <td>Autoencoder</td>\n",
              "    </tr>\n",
              "    <tr>\n",
              "      <th>IF</th>\n",
              "      <td>0.999870</td>\n",
              "      <td>0.103456</td>\n",
              "      <td>0.991976</td>\n",
              "      <td>0.995901</td>\n",
              "      <td>6.961863</td>\n",
              "      <td>IF</td>\n",
              "    </tr>\n",
              "    <tr>\n",
              "      <th>LOF</th>\n",
              "      <td>0.799992</td>\n",
              "      <td>0.104958</td>\n",
              "      <td>0.825091</td>\n",
              "      <td>0.796704</td>\n",
              "      <td>45.695144</td>\n",
              "      <td>LOF</td>\n",
              "    </tr>\n",
              "    <tr>\n",
              "      <th>OC-SVM</th>\n",
              "      <td>0.999980</td>\n",
              "      <td>0.109466</td>\n",
              "      <td>0.991516</td>\n",
              "      <td>0.995723</td>\n",
              "      <td>52.942562</td>\n",
              "      <td>OC-SVM</td>\n",
              "    </tr>\n",
              "  </tbody>\n",
              "</table>\n",
              "</div>"
            ],
            "text/plain": [
              "                  tpr       fpr  precision  f1_score       time        model\n",
              "model                                                                       \n",
              "Autoencoder  0.999849  0.032410   0.997467  0.998656   0.310462  Autoencoder\n",
              "IF           0.999870  0.103456   0.991976  0.995901   6.961863           IF\n",
              "LOF          0.799992  0.104958   0.825091  0.796704  45.695144          LOF\n",
              "OC-SVM       0.999980  0.109466   0.991516  0.995723  52.942562       OC-SVM"
            ]
          },
          "metadata": {
            "tags": []
          },
          "execution_count": 70
        }
      ]
    },
    {
      "cell_type": "code",
      "metadata": {
        "id": "dI236KBHd7z4",
        "colab_type": "code",
        "outputId": "5836ea4c-7cfa-48e6-c966-bb73e5f77886",
        "colab": {
          "base_uri": "https://localhost:8080/",
          "height": 382
        }
      },
      "source": [
        "sns.catplot(x=\"model\", y=\"tpr\", data=agg_df, kind=\"point\")"
      ],
      "execution_count": 0,
      "outputs": [
        {
          "output_type": "execute_result",
          "data": {
            "text/plain": [
              "<seaborn.axisgrid.FacetGrid at 0x7ff7c19464a8>"
            ]
          },
          "metadata": {
            "tags": []
          },
          "execution_count": 72
        },
        {
          "output_type": "display_data",
          "data": {
            "image/png": "[encoded data removed]",
            "text/plain": [
              "<Figure size 360x360 with 1 Axes>"
            ]
          },
          "metadata": {
            "tags": []
          }
        }
      ]
    },
    {
      "cell_type": "code",
      "metadata": {
        "id": "NDS2w5orfP9j",
        "colab_type": "code",
        "outputId": "ddc6b30b-16e6-4b1d-e777-1e0426564e64",
        "colab": {
          "base_uri": "https://localhost:8080/",
          "height": 382
        }
      },
      "source": [
        "sns.catplot(x=\"model\", y=\"fpr\", data=agg_df, kind=\"point\")"
      ],
      "execution_count": 0,
      "outputs": [
        {
          "output_type": "execute_result",
          "data": {
            "text/plain": [
              "<seaborn.axisgrid.FacetGrid at 0x7ff7c36ff9b0>"
            ]
          },
          "metadata": {
            "tags": []
          },
          "execution_count": 77
        },
        {
          "output_type": "display_data",
          "data": {
            "image/png": "[encoded data removed]",
            "text/plain": [
              "<Figure size 360x360 with 1 Axes>"
            ]
          },
          "metadata": {
            "tags": []
          }
        }
      ]
    },
    {
      "cell_type": "code",
      "metadata": {
        "id": "VxpyqGYzfj6c",
        "colab_type": "code",
        "outputId": "fbbd0dff-b535-4f69-9a49-a412bc96ee1d",
        "colab": {
          "base_uri": "https://localhost:8080/",
          "height": 1054
        }
      },
      "source": [
        "fig, ax = plt.subplots(figsize=(10, 10))\n",
        "sns.catplot(x=\"model\", y=\"time\",\n",
        "                capsize=.2, palette=\"YlGnBu_d\", height=6, aspect=.75,\n",
        "                kind=\"point\", data=agg_df, ax=ax)"
      ],
      "execution_count": 0,
      "outputs": [
        {
          "output_type": "execute_result",
          "data": {
            "text/plain": [
              "<seaborn.axisgrid.FacetGrid at 0x7ff7765f76a0>"
            ]
          },
          "metadata": {
            "tags": []
          },
          "execution_count": 86
        },
        {
          "output_type": "display_data",
          "data": {
            "image/png": "[encoded data removed]",
            "text/plain": [
              "<Figure size 720x720 with 1 Axes>"
            ]
          },
          "metadata": {
            "tags": []
          }
        },
        {
          "output_type": "display_data",
          "data": {
            "image/png": "[encoded data removed]",
            "text/plain": [
              "<Figure size 324x432 with 1 Axes>"
            ]
          },
          "metadata": {
            "tags": []
          }
        }
      ]
    },
    {
      "cell_type": "markdown",
      "metadata": {
        "id": "IQQq27QuSkoH",
        "colab_type": "text"
      },
      "source": [
        "### 3. Анализ работы автоэнкодера"
      ]
    },
    {
      "cell_type": "code",
      "metadata": {
        "id": "hyqmx3nHVwcJ",
        "colab_type": "code",
        "colab": {}
      },
      "source": [
        "m = 1000\n",
        "c = 1\n",
        "mixed_df = test_df[:m]\n",
        "y = np.zeros(m)\n",
        "\n",
        "for _, df in datasets.items():\n",
        "    if _ == 'benign':\n",
        "        continue\n",
        "        \n",
        "    mixed_df = np.concatenate((mixed_df, normalizer.transform(df)[:m]))\n",
        "    y = np.concatenate((y, c*np.ones(m)))\n",
        "    c += 1\n",
        "\n",
        "assert len(mixed_df) == m*len(datasets) == y.shape[0]\n",
        "mixed_df = torch.tensor(mixed_df, dtype=torch.float32)"
      ],
      "execution_count": 0,
      "outputs": []
    },
    {
      "cell_type": "code",
      "metadata": {
        "id": "GUce2uwTUciD",
        "colab_type": "code",
        "colab": {}
      },
      "source": [
        "embeddings = deep_aec.enc(mixed_df)\n",
        "embeddings = embeddings.detach().numpy()"
      ],
      "execution_count": 0,
      "outputs": []
    },
    {
      "cell_type": "code",
      "metadata": {
        "id": "HPk6b0INWEJg",
        "colab_type": "code",
        "colab": {}
      },
      "source": [
        "from sklearn.manifold import TSNE, Isomap\n",
        "from sklearn.decomposition import PCA"
      ],
      "execution_count": 0,
      "outputs": []
    },
    {
      "cell_type": "code",
      "metadata": {
        "id": "MxftrPmuXCBZ",
        "colab_type": "code",
        "outputId": "cd4f602b-00ee-4a6a-f4b1-4d254650418d",
        "colab": {
          "base_uri": "https://localhost:8080/",
          "height": 617
        }
      },
      "source": [
        "# tSne\n",
        "embeddings_2d = TSNE(n_components=2).fit_transform(embeddings)\n",
        "plt.figure(figsize=(10, 10))\n",
        "plt.scatter(embeddings_2d[:1000, 0], embeddings_2d[:1000, 1], c=y[:1000])"
      ],
      "execution_count": 0,
      "outputs": [
        {
          "output_type": "execute_result",
          "data": {
            "text/plain": [
              "<matplotlib.collections.PathCollection at 0x7ff7004b1898>"
            ]
          },
          "metadata": {
            "tags": []
          },
          "execution_count": 93
        },
        {
          "output_type": "display_data",
          "data": {
            "image/png": "[encoded data removed]",
            "text/plain": [
              "<Figure size 720x720 with 1 Axes>"
            ]
          },
          "metadata": {
            "tags": []
          }
        }
      ]
    },
    {
      "cell_type": "code",
      "metadata": {
        "id": "FP72DrorYDky",
        "colab_type": "code",
        "outputId": "388fc378-ad9f-4883-823c-5c5fb9b9db4e",
        "colab": {
          "base_uri": "https://localhost:8080/",
          "height": 617
        }
      },
      "source": [
        "# Isomap\n",
        "embeddings_2d = Isomap(n_components=2).fit_transform(embeddings)\n",
        "plt.figure(figsize=(10, 10))\n",
        "plt.scatter(embeddings_2d[:, 0], embeddings_2d[:, 1], c=y)"
      ],
      "execution_count": 0,
      "outputs": [
        {
          "output_type": "execute_result",
          "data": {
            "text/plain": [
              "<matplotlib.collections.PathCollection at 0x7ff73c0ad0f0>"
            ]
          },
          "metadata": {
            "tags": []
          },
          "execution_count": 91
        },
        {
          "output_type": "display_data",
          "data": {
            "image/png": "[encoded data removed]",
            "text/plain": [
              "<Figure size 720x720 with 1 Axes>"
            ]
          },
          "metadata": {
            "tags": []
          }
        }
      ]
    },
    {
      "cell_type": "code",
      "metadata": {
        "id": "Fq9taHgeasdS",
        "colab_type": "code",
        "outputId": "a0f529a1-01a8-4f63-f2f3-66d3e8572129",
        "colab": {
          "base_uri": "https://localhost:8080/",
          "height": 617
        }
      },
      "source": [
        "# PCA\n",
        "embeddings_2d = PCA(n_components=2).fit_transform(embeddings)\n",
        "plt.figure(figsize=(10, 10))\n",
        "plt.scatter(embeddings_2d[:, 0], embeddings_2d[:, 1], c=y)"
      ],
      "execution_count": 0,
      "outputs": [
        {
          "output_type": "execute_result",
          "data": {
            "text/plain": [
              "<matplotlib.collections.PathCollection at 0x7ff700551ef0>"
            ]
          },
          "metadata": {
            "tags": []
          },
          "execution_count": 92
        },
        {
          "output_type": "display_data",
          "data": {
            "image/png": "[encoded data removed]",
            "text/plain": [
              "<Figure size 720x720 with 1 Axes>"
            ]
          },
          "metadata": {
            "tags": []
          }
        }
      ]
    },
    {
      "cell_type": "code",
      "metadata": {
        "id": "6pQzFYWAbP-q",
        "colab_type": "code",
        "colab": {}
      },
      "source": [
        ""
      ],
      "execution_count": 0,
      "outputs": []
    }
  ]
}